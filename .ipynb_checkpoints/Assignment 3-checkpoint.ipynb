{
 "cells": [
  {
   "cell_type": "code",
   "execution_count": 1,
   "id": "1c15a0c0",
   "metadata": {},
   "outputs": [
    {
     "name": "stdout",
     "output_type": "stream",
     "text": [
      "Requirement already satisfied: geopandas in /home/hadoop/ides/anaconda3/envs/vega/lib/python3.8/site-packages (0.13.2)\n",
      "Requirement already satisfied: fiona>=1.8.19 in /home/hadoop/ides/anaconda3/envs/vega/lib/python3.8/site-packages (from geopandas) (1.9.5)\n",
      "Requirement already satisfied: packaging in /home/hadoop/ides/anaconda3/envs/vega/lib/python3.8/site-packages (from geopandas) (23.2)\n",
      "Requirement already satisfied: pandas>=1.1.0 in /home/hadoop/ides/anaconda3/envs/vega/lib/python3.8/site-packages (from geopandas) (1.5.3)\n",
      "Requirement already satisfied: pyproj>=3.0.1 in /home/hadoop/ides/anaconda3/envs/vega/lib/python3.8/site-packages (from geopandas) (3.5.0)\n",
      "Requirement already satisfied: shapely>=1.7.1 in /home/hadoop/ides/anaconda3/envs/vega/lib/python3.8/site-packages (from geopandas) (2.0.2)\n",
      "Requirement already satisfied: attrs>=19.2.0 in /home/hadoop/ides/anaconda3/envs/vega/lib/python3.8/site-packages (from fiona>=1.8.19->geopandas) (23.1.0)\n",
      "Requirement already satisfied: certifi in /home/hadoop/ides/anaconda3/envs/vega/lib/python3.8/site-packages (from fiona>=1.8.19->geopandas) (2023.7.22)\n",
      "Requirement already satisfied: click~=8.0 in /home/hadoop/ides/anaconda3/envs/vega/lib/python3.8/site-packages (from fiona>=1.8.19->geopandas) (8.1.7)\n",
      "Requirement already satisfied: click-plugins>=1.0 in /home/hadoop/ides/anaconda3/envs/vega/lib/python3.8/site-packages (from fiona>=1.8.19->geopandas) (1.1.1)\n",
      "Requirement already satisfied: cligj>=0.5 in /home/hadoop/ides/anaconda3/envs/vega/lib/python3.8/site-packages (from fiona>=1.8.19->geopandas) (0.7.2)\n",
      "Requirement already satisfied: six in /home/hadoop/ides/anaconda3/envs/vega/lib/python3.8/site-packages (from fiona>=1.8.19->geopandas) (1.16.0)\n",
      "Requirement already satisfied: setuptools in /home/hadoop/ides/anaconda3/envs/vega/lib/python3.8/site-packages (from fiona>=1.8.19->geopandas) (68.0.0)\n",
      "Requirement already satisfied: importlib-metadata in /home/hadoop/ides/anaconda3/envs/vega/lib/python3.8/site-packages (from fiona>=1.8.19->geopandas) (6.8.0)\n",
      "Requirement already satisfied: python-dateutil>=2.8.1 in /home/hadoop/ides/anaconda3/envs/vega/lib/python3.8/site-packages (from pandas>=1.1.0->geopandas) (2.8.2)\n",
      "Requirement already satisfied: pytz>=2020.1 in /home/hadoop/ides/anaconda3/envs/vega/lib/python3.8/site-packages (from pandas>=1.1.0->geopandas) (2023.3.post1)\n",
      "Requirement already satisfied: numpy>=1.20.3 in /home/hadoop/ides/anaconda3/envs/vega/lib/python3.8/site-packages (from pandas>=1.1.0->geopandas) (1.24.4)\n",
      "Requirement already satisfied: zipp>=0.5 in /home/hadoop/ides/anaconda3/envs/vega/lib/python3.8/site-packages (from importlib-metadata->fiona>=1.8.19->geopandas) (3.17.0)\n"
     ]
    }
   ],
   "source": [
    "!pip install geopandas"
   ]
  },
  {
   "cell_type": "code",
   "execution_count": 1,
   "id": "e7747a5a",
   "metadata": {},
   "outputs": [],
   "source": [
    "from vega import VegaLite as vte\n",
    "import pandas as pd\n",
    "import numpy as np\n",
    "import geopandas as gpd\n",
    "import json\n",
    "from datetime import datetime"
   ]
  },
  {
   "cell_type": "code",
   "execution_count": 2,
   "id": "218959d0",
   "metadata": {},
   "outputs": [],
   "source": [
    "cdf = pd.read_csv(\"crimes.csv\").rename(columns={\"ID\":\"count\"})\n",
    "wdf = gpd.read_file(\"wards.geojson\").rename(columns={\"ward\":\"Ward\"})"
   ]
  },
  {
   "cell_type": "code",
   "execution_count": null,
   "id": "3336f3d5",
   "metadata": {},
   "outputs": [],
   "source": [
    "wdf = wdf[wdf[\"Ward\"].notnull()]\n",
    "wdf['Ward'] = wdf['Ward'].apply(lambda x: int(x)) # Need to make similar to merge\n",
    "cdfc = cdf[cdf['Ward'].notnull()].copy() # filters out rows with null Wards\n",
    "cdfc['Ward'] = cdfc['Ward'].apply(lambda x: int(x)) # Need to make similar to merge\n",
    "\n",
    "# gets rid of reused types\n",
    "renames = {'CRIM SEXUAL ASSAULT':\"CRIMINAL SEXUAL ASSAULT\",\n",
    " 'NON-CRIMINAL (SUBJECT SPECIFIED)': 'NON-CRIMINAL',\n",
    " 'NON - CRIMINAL': 'NON-CRIMINAL'}\n",
    "cdfc[\"Primary Type\"] = cdfc[\"Primary Type\"].apply(lambda x: x if (None == renames.get(x)) else renames[x])"
   ]
  },
  {
   "cell_type": "code",
   "execution_count": 101,
   "id": "9c755a57",
   "metadata": {},
   "outputs": [],
   "source": [
    "ddf = cdfc.copy()[['Domestic','Year', 'count']].groupby(['Domestic', 'Year']).count().reset_index()\n",
    "ddf['Domestic'] = ddf['Domestic'].apply(lambda x: 'true' if bool(x) else 'false' )\n",
    "with open('viz7.json', 'w', encoding='utf-8') as v1:\n",
    "    v1.write(ddf.to_json(orient='records'))\n",
    "    "
   ]
  },
  {
   "cell_type": "code",
   "execution_count": 100,
   "id": "9a39e7d5",
   "metadata": {},
   "outputs": [
    {
     "data": {
      "application/javascript": [
       "const spec = {\"$schema\": \"https://vega.github.io/schema/vega-lite/v5.json\", \"data\": {\"values\": [{\"Domestic\": \"false\", \"Year\": 2001, \"count\": 3851}, {\"Domestic\": \"false\", \"Year\": 2002, \"count\": 293782}, {\"Domestic\": \"false\", \"Year\": 2003, \"count\": 399388}, {\"Domestic\": \"false\", \"Year\": 2004, \"count\": 394385}, {\"Domestic\": \"false\", \"Year\": 2005, \"count\": 383056}, {\"Domestic\": \"false\", \"Year\": 2006, \"count\": 378975}, {\"Domestic\": \"false\", \"Year\": 2007, \"count\": 366662}, {\"Domestic\": \"false\", \"Year\": 2008, \"count\": 357831}, {\"Domestic\": \"false\", \"Year\": 2009, \"count\": 327565}, {\"Domestic\": \"false\", \"Year\": 2010, \"count\": 309136}, {\"Domestic\": \"false\", \"Year\": 2011, \"count\": 293756}, {\"Domestic\": \"false\", \"Year\": 2012, \"count\": 280775}, {\"Domestic\": \"false\", \"Year\": 2013, \"count\": 255506}, {\"Domestic\": \"false\", \"Year\": 2014, \"count\": 228295}, {\"Domestic\": \"false\", \"Year\": 2015, \"count\": 215853}, {\"Domestic\": \"false\", \"Year\": 2016, \"count\": 219063}, {\"Domestic\": \"false\", \"Year\": 2017, \"count\": 218662}, {\"Domestic\": \"false\", \"Year\": 2018, \"count\": 217126}, {\"Domestic\": \"false\", \"Year\": 2019, \"count\": 210199}, {\"Domestic\": \"false\", \"Year\": 2020, \"count\": 165994}, {\"Domestic\": \"false\", \"Year\": 2021, \"count\": 161124}, {\"Domestic\": \"false\", \"Year\": 2022, \"count\": 194161}, {\"Domestic\": \"false\", \"Year\": 2023, \"count\": 175602}, {\"Domestic\": \"true\", \"Year\": 2001, \"count\": 460}, {\"Domestic\": \"true\", \"Year\": 2002, \"count\": 59916}, {\"Domestic\": \"true\", \"Year\": 2003, \"count\": 76579}, {\"Domestic\": \"true\", \"Year\": 2004, \"count\": 75017}, {\"Domestic\": \"true\", \"Year\": 2005, \"count\": 70717}, {\"Domestic\": \"true\", \"Year\": 2006, \"count\": 69201}, {\"Domestic\": \"true\", \"Year\": 2007, \"count\": 70424}, {\"Domestic\": \"true\", \"Year\": 2008, \"count\": 69350}, {\"Domestic\": \"true\", \"Year\": 2009, \"count\": 65260}, {\"Domestic\": \"true\", \"Year\": 2010, \"count\": 61364}, {\"Domestic\": \"true\", \"Year\": 2011, \"count\": 58227}, {\"Domestic\": \"true\", \"Year\": 2012, \"count\": 55545}, {\"Domestic\": \"true\", \"Year\": 2013, \"count\": 52033}, {\"Domestic\": \"true\", \"Year\": 2014, \"count\": 47500}, {\"Domestic\": \"true\", \"Year\": 2015, \"count\": 48953}, {\"Domestic\": \"true\", \"Year\": 2016, \"count\": 50778}, {\"Domestic\": \"true\", \"Year\": 2017, \"count\": 50450}, {\"Domestic\": \"true\", \"Year\": 2018, \"count\": 51796}, {\"Domestic\": \"true\", \"Year\": 2019, \"count\": 51160}, {\"Domestic\": \"true\", \"Year\": 2020, \"count\": 46238}, {\"Domestic\": \"true\", \"Year\": 2021, \"count\": 47801}, {\"Domestic\": \"true\", \"Year\": 2022, \"count\": 44857}, {\"Domestic\": \"true\", \"Year\": 2023, \"count\": 38746}]}, \"params\": [{\"name\": \"toggleDomestic\", \"bind\": {\"input\": \"checkbox\"}}], \"mark\": \"point\", \"encoding\": {\"x\": {\"field\": \"Year\", \"type\": \"ordinal\"}, \"y\": {\"field\": \"count\", \"type\": \"quantitative\"}, \"color\": {\"condition\": {\"param\": \"toggleDomestic\", \"field\": \"Domestic\", \"type\": \"nominal\"}, \"value\": \"gray\"}}};\n",
       "const opt = {};\n",
       "const type = \"vega-lite\";\n",
       "const id = \"23362e23-549c-4637-bf94-0468b4b31f67\";\n",
       "\n",
       "const output_area = this;\n",
       "\n",
       "require([\"jupyter-vega\"], function(vega) {\n",
       "  const target = document.createElement(\"div\");\n",
       "  target.id = id;\n",
       "  target.className = \"vega-embed\";\n",
       "\n",
       "  const style = document.createElement(\"style\");\n",
       "  style.textContent = [\n",
       "    \".vega-embed .error p {\",\n",
       "    \"  color: firebrick;\",\n",
       "    \"  font-size: 14px;\",\n",
       "    \"}\",\n",
       "  ].join(\"\\\\n\");\n",
       "\n",
       "  // element is a jQuery wrapped DOM element inside the output area\n",
       "  // see http://ipython.readthedocs.io/en/stable/api/generated/\\\n",
       "  // IPython.display.html#IPython.display.Javascript.__init__\n",
       "  element[0].appendChild(target);\n",
       "  element[0].appendChild(style);\n",
       "  vega.render(`#${id}`, spec, type, opt, output_area);\n",
       "}, function (err) {\n",
       "  if (err.requireType !== \"scripterror\") {\n",
       "    throw(err);\n",
       "  }\n",
       "});\n"
      ],
      "text/plain": [
       "<vega.vegalite.VegaLite at 0x7f574ccb5640>"
      ]
     },
     "execution_count": 100,
     "metadata": {
      "jupyter-vega": "#23362e23-549c-4637-bf94-0468b4b31f67"
     },
     "output_type": "execute_result"
    }
   ],
   "source": [
    "domesticToggle = {\n",
    "  \"$schema\": \"https://vega.github.io/schema/vega-lite/v5.json\",\n",
    "  \"data\": {\"values\":[\n",
    "      {\"Domestic\":\"false\",\"Year\":2001,\"count\":3851},\n",
    "      {\"Domestic\":\"false\",\"Year\":2002,\"count\":293782},\n",
    "      {\"Domestic\":\"false\",\"Year\":2003,\"count\":399388},\n",
    "      {\"Domestic\":\"false\",\"Year\":2004,\"count\":394385},\n",
    "      {\"Domestic\":\"false\",\"Year\":2005,\"count\":383056},\n",
    "      {\"Domestic\":\"false\",\"Year\":2006,\"count\":378975},\n",
    "      {\"Domestic\":\"false\",\"Year\":2007,\"count\":366662},\n",
    "      {\"Domestic\":\"false\",\"Year\":2008,\"count\":357831},\n",
    "      {\"Domestic\":\"false\",\"Year\":2009,\"count\":327565},\n",
    "      {\"Domestic\":\"false\",\"Year\":2010,\"count\":309136},\n",
    "      {\"Domestic\":\"false\",\"Year\":2011,\"count\":293756},\n",
    "      {\"Domestic\":\"false\",\"Year\":2012,\"count\":280775},\n",
    "      {\"Domestic\":\"false\",\"Year\":2013,\"count\":255506},\n",
    "      {\"Domestic\":\"false\",\"Year\":2014,\"count\":228295},\n",
    "      {\"Domestic\":\"false\",\"Year\":2015,\"count\":215853},\n",
    "      {\"Domestic\":\"false\",\"Year\":2016,\"count\":219063},\n",
    "      {\"Domestic\":\"false\",\"Year\":2017,\"count\":218662},\n",
    "      {\"Domestic\":\"false\",\"Year\":2018,\"count\":217126},\n",
    "      {\"Domestic\":\"false\",\"Year\":2019,\"count\":210199},\n",
    "      {\"Domestic\":\"false\",\"Year\":2020,\"count\":165994},\n",
    "      {\"Domestic\":\"false\",\"Year\":2021,\"count\":161124},\n",
    "      {\"Domestic\":\"false\",\"Year\":2022,\"count\":194161},\n",
    "      {\"Domestic\":\"false\",\"Year\":2023,\"count\":175602},\n",
    "      {\"Domestic\":\"true\",\"Year\":2001,\"count\":460},\n",
    "      {\"Domestic\":\"true\",\"Year\":2002,\"count\":59916},\n",
    "      {\"Domestic\":\"true\",\"Year\":2003,\"count\":76579},\n",
    "      {\"Domestic\":\"true\",\"Year\":2004,\"count\":75017},\n",
    "      {\"Domestic\":\"true\",\"Year\":2005,\"count\":70717},\n",
    "      {\"Domestic\":\"true\",\"Year\":2006,\"count\":69201},\n",
    "      {\"Domestic\":\"true\",\"Year\":2007,\"count\":70424},\n",
    "      {\"Domestic\":\"true\",\"Year\":2008,\"count\":69350},\n",
    "      {\"Domestic\":\"true\",\"Year\":2009,\"count\":65260},\n",
    "      {\"Domestic\":\"true\",\"Year\":2010,\"count\":61364},\n",
    "      {\"Domestic\":\"true\",\"Year\":2011,\"count\":58227},\n",
    "      {\"Domestic\":\"true\",\"Year\":2012,\"count\":55545},\n",
    "      {\"Domestic\":\"true\",\"Year\":2013,\"count\":52033},\n",
    "      {\"Domestic\":\"true\",\"Year\":2014,\"count\":47500},\n",
    "      {\"Domestic\":\"true\",\"Year\":2015,\"count\":48953},\n",
    "      {\"Domestic\":\"true\",\"Year\":2016,\"count\":50778},\n",
    "      {\"Domestic\":\"true\",\"Year\":2017,\"count\":50450},\n",
    "      {\"Domestic\":\"true\",\"Year\":2018,\"count\":51796},\n",
    "      {\"Domestic\":\"true\",\"Year\":2019,\"count\":51160},\n",
    "      {\"Domestic\":\"true\",\"Year\":2020,\"count\":46238},\n",
    "      {\"Domestic\":\"true\",\"Year\":2021,\"count\":47801},\n",
    "      {\"Domestic\":\"true\",\"Year\":2022,\"count\":44857},\n",
    "      {\"Domestic\":\"true\",\"Year\":2023,\"count\":38746}\n",
    "  ]},\n",
    "  \"params\": [\n",
    "    {\"name\": \"toggleDomestic\", \"bind\": {\"input\": \"checkbox\"}},\n",
    "  ],\n",
    "  \"mark\": \"point\",\n",
    "  \"encoding\": {\n",
    "    \"x\": {\"field\": \"Year\", \"type\": \"ordinal\"},\n",
    "    \"y\": {\"field\": \"count\", \"type\": \"quantitative\"},\n",
    "    \"color\": {\n",
    "      \"condition\": {\n",
    "        \"param\": \"toggleDomestic\",\n",
    "        \"field\": \"Domestic\",\n",
    "        \"type\": \"nominal\"\n",
    "      },\n",
    "      \"value\": \"gray\"\n",
    "    }\n",
    "  }\n",
    "}\n",
    "\n",
    "vte(domesticToggle)"
   ]
  },
  {
   "cell_type": "code",
   "execution_count": 170,
   "id": "24053dcc",
   "metadata": {
    "scrolled": false
   },
   "outputs": [
    {
     "data": {
      "text/html": [
       "<div>\n",
       "<style scoped>\n",
       "    .dataframe tbody tr th:only-of-type {\n",
       "        vertical-align: middle;\n",
       "    }\n",
       "\n",
       "    .dataframe tbody tr th {\n",
       "        vertical-align: top;\n",
       "    }\n",
       "\n",
       "    .dataframe thead th {\n",
       "        text-align: right;\n",
       "    }\n",
       "</style>\n",
       "<table border=\"1\" class=\"dataframe\">\n",
       "  <thead>\n",
       "    <tr style=\"text-align: right;\">\n",
       "      <th></th>\n",
       "      <th>Ward</th>\n",
       "      <th>Primary Type</th>\n",
       "      <th>count</th>\n",
       "    </tr>\n",
       "  </thead>\n",
       "  <tbody>\n",
       "    <tr>\n",
       "      <th>0</th>\n",
       "      <td>1</td>\n",
       "      <td>THEFT</td>\n",
       "      <td>47701</td>\n",
       "    </tr>\n",
       "    <tr>\n",
       "      <th>1</th>\n",
       "      <td>1</td>\n",
       "      <td>BATTERY</td>\n",
       "      <td>18083</td>\n",
       "    </tr>\n",
       "    <tr>\n",
       "      <th>2</th>\n",
       "      <td>1</td>\n",
       "      <td>CRIMINAL DAMAGE</td>\n",
       "      <td>16918</td>\n",
       "    </tr>\n",
       "    <tr>\n",
       "      <th>3</th>\n",
       "      <td>1</td>\n",
       "      <td>BURGLARY</td>\n",
       "      <td>9679</td>\n",
       "    </tr>\n",
       "    <tr>\n",
       "      <th>4</th>\n",
       "      <td>1</td>\n",
       "      <td>MOTOR VEHICLE THEFT</td>\n",
       "      <td>7450</td>\n",
       "    </tr>\n",
       "    <tr>\n",
       "      <th>...</th>\n",
       "      <td>...</td>\n",
       "      <td>...</td>\n",
       "      <td>...</td>\n",
       "    </tr>\n",
       "    <tr>\n",
       "      <th>245</th>\n",
       "      <td>50</td>\n",
       "      <td>THEFT</td>\n",
       "      <td>19382</td>\n",
       "    </tr>\n",
       "    <tr>\n",
       "      <th>246</th>\n",
       "      <td>50</td>\n",
       "      <td>BATTERY</td>\n",
       "      <td>11642</td>\n",
       "    </tr>\n",
       "    <tr>\n",
       "      <th>247</th>\n",
       "      <td>50</td>\n",
       "      <td>CRIMINAL DAMAGE</td>\n",
       "      <td>11047</td>\n",
       "    </tr>\n",
       "    <tr>\n",
       "      <th>248</th>\n",
       "      <td>50</td>\n",
       "      <td>BURGLARY</td>\n",
       "      <td>5510</td>\n",
       "    </tr>\n",
       "    <tr>\n",
       "      <th>249</th>\n",
       "      <td>50</td>\n",
       "      <td>OTHER OFFENSE</td>\n",
       "      <td>5259</td>\n",
       "    </tr>\n",
       "  </tbody>\n",
       "</table>\n",
       "<p>250 rows × 3 columns</p>\n",
       "</div>"
      ],
      "text/plain": [
       "     Ward         Primary Type  count\n",
       "0       1                THEFT  47701\n",
       "1       1              BATTERY  18083\n",
       "2       1      CRIMINAL DAMAGE  16918\n",
       "3       1             BURGLARY   9679\n",
       "4       1  MOTOR VEHICLE THEFT   7450\n",
       "..    ...                  ...    ...\n",
       "245    50                THEFT  19382\n",
       "246    50              BATTERY  11642\n",
       "247    50      CRIMINAL DAMAGE  11047\n",
       "248    50             BURGLARY   5510\n",
       "249    50        OTHER OFFENSE   5259\n",
       "\n",
       "[250 rows x 3 columns]"
      ]
     },
     "metadata": {},
     "output_type": "display_data"
    }
   ],
   "source": [
    "# pdf = (cdfc.copy()[[\"Primary Type\", \"Ward\", \"Arrest\", \"count\"]]\n",
    "#     .groupby([\"Primary Type\", \"Ward\", \"Arrest\"])\n",
    "#     .count()\n",
    "#     .reset_index()\n",
    "#     .sort_values(by='count', ascending=False))\n",
    "\n",
    "topC = (cdfc.copy()[[\"Ward\",\"Primary Type\", 'count']]\n",
    "        .groupby([\"Ward\", \"Primary Type\"])\n",
    "        .count()\n",
    "        .sort_values(by=[\"Ward\",\"count\"], ascending=False)\n",
    "        .reset_index()\n",
    "        .set_index([\"Ward\"]))\n",
    "\n",
    "data = {\"Ward\":[], \"Primary Type\":[], \"count\":[]}\n",
    "for x in range(1, 51):\n",
    "    cnt = 1\n",
    "    for index, row in topC.iterrows():\n",
    "        if cnt > 5:\n",
    "            break\n",
    "        if index == x:\n",
    "            cnt+=1\n",
    "            data[\"Ward\"].append(index)\n",
    "            data[\"Primary Type\"].append(row[\"Primary Type\"])\n",
    "            data[\"count\"].append(row[\"count\"])\n",
    "data = pd.DataFrame(data=data)\n",
    "# pdf[\"Primary Type\"] = pdf[\"Primary Type\"].apply(lambda x: x if x in topC else np.nan)\n",
    "# pdf = pdf[pdf[\"Primary Type\"].notnull()]"
   ]
  },
  {
   "cell_type": "code",
   "execution_count": 171,
   "id": "04f2b6a0",
   "metadata": {},
   "outputs": [],
   "source": [
    "with open('viz8.json', 'w', encoding='utf-8') as v1:\n",
    "    v1.write(data.to_json(orient='records'))"
   ]
  },
  {
   "cell_type": "code",
   "execution_count": 172,
   "id": "4f2e2f5d",
   "metadata": {},
   "outputs": [
    {
     "data": {
      "text/plain": [
       "'[{\"Ward\":1,\"Primary Type\":\"THEFT\",\"count\":47701},{\"Ward\":1,\"Primary Type\":\"BATTERY\",\"count\":18083},{\"Ward\":1,\"Primary Type\":\"CRIMINAL DAMAGE\",\"count\":16918},{\"Ward\":1,\"Primary Type\":\"BURGLARY\",\"count\":9679},{\"Ward\":1,\"Primary Type\":\"MOTOR VEHICLE THEFT\",\"count\":7450},{\"Ward\":2,\"Primary Type\":\"THEFT\",\"count\":80387},{\"Ward\":2,\"Primary Type\":\"BATTERY\",\"count\":37121},{\"Ward\":2,\"Primary Type\":\"NARCOTICS\",\"count\":23913},{\"Ward\":2,\"Primary Type\":\"CRIMINAL DAMAGE\",\"count\":20515},{\"Ward\":2,\"Primary Type\":\"DECEPTIVE PRACTICE\",\"count\":15931},{\"Ward\":3,\"Primary Type\":\"BATTERY\",\"count\":46470},{\"Ward\":3,\"Primary Type\":\"THEFT\",\"count\":35694},{\"Ward\":3,\"Primary Type\":\"NARCOTICS\",\"count\":27658},{\"Ward\":3,\"Primary Type\":\"CRIMINAL DAMAGE\",\"count\":20502},{\"Ward\":3,\"Primary Type\":\"ASSAULT\",\"count\":16247},{\"Ward\":4,\"Primary Type\":\"THEFT\",\"count\":35771},{\"Ward\":4,\"Primary Type\":\"BATTERY\",\"count\":26698},{\"Ward\":4,\"Primary Type\":\"CRIMINAL DAMAGE\",\"count\":15131},{\"Ward\":4,\"Primary Type\":\"ASSAULT\",\"count\":10685},{\"Ward\":4,\"Primary Type\":\"NARCOTICS\",\"count\":10221},{\"Ward\":5,\"Primary Type\":\"BATTERY\",\"count\":34335},{\"Ward\":5,\"Primary Type\":\"THEFT\",\"count\":33957},{\"Ward\":5,\"Primary Type\":\"CRIMINAL DAMAGE\",\"count\":20470},{\"Ward\":5,\"Primary Type\":\"ASSAULT\",\"count\":12700},{\"Ward\":5,\"Primary Type\":\"OTHER OFFENSE\",\"count\":12402},{\"Ward\":6,\"Primary Type\":\"BATTERY\",\"count\":49427},{\"Ward\":6,\"Primary Type\":\"THEFT\",\"count\":39702},{\"Ward\":6,\"Primary Type\":\"CRIMINAL DAMAGE\",\"count\":27396},{\"Ward\":6,\"Primary Type\":\"NARCOTICS\",\"count\":19866},{\"Ward\":6,\"Primary Type\":\"ASSAULT\",\"count\":18472},{\"Ward\":7,\"Primary Type\":\"BATTERY\",\"count\":44531},{\"Ward\":7,\"Primary Type\":\"THEFT\",\"count\":28502},{\"Ward\":7,\"Primary Type\":\"CRIMINAL DAMAGE\",\"count\":24204},{\"Ward\":7,\"Primary Type\":\"NARCOTICS\",\"count\":17327},{\"Ward\":7,\"Primary Type\":\"ASSAULT\",\"count\":16448},{\"Ward\":8,\"Primary Type\":\"BATTERY\",\"count\":42384},{\"Ward\":8,\"Primary Type\":\"THEFT\",\"count\":32960},{\"Ward\":8,\"Primary Type\":\"CRIMINAL DAMAGE\",\"count\":24230},{\"Ward\":8,\"Primary Type\":\"ASSAULT\",\"count\":16505},{\"Ward\":8,\"Primary Type\":\"OTHER OFFENSE\",\"count\":14437},{\"Ward\":9,\"Primary Type\":\"BATTERY\",\"count\":42167},{\"Ward\":9,\"Primary Type\":\"THEFT\",\"count\":26835},{\"Ward\":9,\"Primary Type\":\"CRIMINAL DAMAGE\",\"count\":24178},{\"Ward\":9,\"Primary Type\":\"ASSAULT\",\"count\":16323},{\"Ward\":9,\"Primary Type\":\"NARCOTICS\",\"count\":15443},{\"Ward\":10,\"Primary Type\":\"BATTERY\",\"count\":24919},{\"Ward\":10,\"Primary Type\":\"THEFT\",\"count\":19912},{\"Ward\":10,\"Primary Type\":\"CRIMINAL DAMAGE\",\"count\":19296},{\"Ward\":10,\"Primary Type\":\"ASSAULT\",\"count\":10973},{\"Ward\":10,\"Primary Type\":\"OTHER OFFENSE\",\"count\":9169},{\"Ward\":11,\"Primary Type\":\"THEFT\",\"count\":23352},{\"Ward\":11,\"Primary Type\":\"BATTERY\",\"count\":15681},{\"Ward\":11,\"Primary Type\":\"CRIMINAL DAMAGE\",\"count\":15543},{\"Ward\":11,\"Primary Type\":\"ASSAULT\",\"count\":6922},{\"Ward\":11,\"Primary Type\":\"BURGLARY\",\"count\":6589},{\"Ward\":12,\"Primary Type\":\"THEFT\",\"count\":17725},{\"Ward\":12,\"Primary Type\":\"BATTERY\",\"count\":16792},{\"Ward\":12,\"Primary Type\":\"CRIMINAL DAMAGE\",\"count\":11495},{\"Ward\":12,\"Primary Type\":\"ASSAULT\",\"count\":6012},{\"Ward\":12,\"Primary Type\":\"MOTOR VEHICLE THEFT\",\"count\":5995},{\"Ward\":13,\"Primary Type\":\"THEFT\",\"count\":22571},{\"Ward\":13,\"Primary Type\":\"CRIMINAL DAMAGE\",\"count\":15114},{\"Ward\":13,\"Primary Type\":\"BATTERY\",\"count\":12759},{\"Ward\":13,\"Primary Type\":\"BURGLARY\",\"count\":6739},{\"Ward\":13,\"Primary Type\":\"OTHER OFFENSE\",\"count\":6378},{\"Ward\":14,\"Primary Type\":\"THEFT\",\"count\":18984},{\"Ward\":14,\"Primary Type\":\"BATTERY\",\"count\":16112},{\"Ward\":14,\"Primary Type\":\"CRIMINAL DAMAGE\",\"count\":14370},{\"Ward\":14,\"Primary Type\":\"BURGLARY\",\"count\":6823},{\"Ward\":14,\"Primary Type\":\"MOTOR VEHICLE THEFT\",\"count\":6766},{\"Ward\":15,\"Primary Type\":\"BATTERY\",\"count\":41241},{\"Ward\":15,\"Primary Type\":\"THEFT\",\"count\":26865},{\"Ward\":15,\"Primary Type\":\"CRIMINAL DAMAGE\",\"count\":22551},{\"Ward\":15,\"Primary Type\":\"NARCOTICS\",\"count\":21214},{\"Ward\":15,\"Primary Type\":\"ASSAULT\",\"count\":14057},{\"Ward\":16,\"Primary Type\":\"BATTERY\",\"count\":47431},{\"Ward\":16,\"Primary Type\":\"NARCOTICS\",\"count\":28803},{\"Ward\":16,\"Primary Type\":\"THEFT\",\"count\":26971},{\"Ward\":16,\"Primary Type\":\"CRIMINAL DAMAGE\",\"count\":23803},{\"Ward\":16,\"Primary Type\":\"ASSAULT\",\"count\":16282},{\"Ward\":17,\"Primary Type\":\"BATTERY\",\"count\":56877},{\"Ward\":17,\"Primary Type\":\"THEFT\",\"count\":33263},{\"Ward\":17,\"Primary Type\":\"CRIMINAL DAMAGE\",\"count\":27824},{\"Ward\":17,\"Primary Type\":\"NARCOTICS\",\"count\":23945},{\"Ward\":17,\"Primary Type\":\"ASSAULT\",\"count\":19558},{\"Ward\":18,\"Primary Type\":\"BATTERY\",\"count\":21611},{\"Ward\":18,\"Primary Type\":\"THEFT\",\"count\":21343},{\"Ward\":18,\"Primary Type\":\"CRIMINAL DAMAGE\",\"count\":17024},{\"Ward\":18,\"Primary Type\":\"BURGLARY\",\"count\":9767},{\"Ward\":18,\"Primary Type\":\"OTHER OFFENSE\",\"count\":8850},{\"Ward\":19,\"Primary Type\":\"THEFT\",\"count\":15780},{\"Ward\":19,\"Primary Type\":\"CRIMINAL DAMAGE\",\"count\":9165},{\"Ward\":19,\"Primary Type\":\"BATTERY\",\"count\":9138},{\"Ward\":19,\"Primary Type\":\"OTHER OFFENSE\",\"count\":5974},{\"Ward\":19,\"Primary Type\":\"DECEPTIVE PRACTICE\",\"count\":5232},{\"Ward\":20,\"Primary Type\":\"BATTERY\",\"count\":54977},{\"Ward\":20,\"Primary Type\":\"THEFT\",\"count\":32726},{\"Ward\":20,\"Primary Type\":\"CRIMINAL DAMAGE\",\"count\":26712},{\"Ward\":20,\"Primary Type\":\"NARCOTICS\",\"count\":23965},{\"Ward\":20,\"Primary Type\":\"ASSAULT\",\"count\":18773},{\"Ward\":21,\"Primary Type\":\"THEFT\",\"count\":42438},{\"Ward\":21,\"Primary Type\":\"BATTERY\",\"count\":42061},{\"Ward\":21,\"Primary Type\":\"CRIMINAL DAMAGE\",\"count\":25056},{\"Ward\":21,\"Primary Type\":\"NARCOTICS\",\"count\":19914},{\"Ward\":21,\"Primary Type\":\"ASSAULT\",\"count\":16203},{\"Ward\":22,\"Primary Type\":\"BATTERY\",\"count\":17470},{\"Ward\":22,\"Primary Type\":\"THEFT\",\"count\":13487},{\"Ward\":22,\"Primary Type\":\"CRIMINAL DAMAGE\",\"count\":10204},{\"Ward\":22,\"Primary Type\":\"NARCOTICS\",\"count\":7265},{\"Ward\":22,\"Primary Type\":\"OTHER OFFENSE\",\"count\":6645},{\"Ward\":23,\"Primary Type\":\"THEFT\",\"count\":19387},{\"Ward\":23,\"Primary Type\":\"CRIMINAL DAMAGE\",\"count\":15098},{\"Ward\":23,\"Primary Type\":\"BATTERY\",\"count\":12888},{\"Ward\":23,\"Primary Type\":\"BURGLARY\",\"count\":6563},{\"Ward\":23,\"Primary Type\":\"OTHER OFFENSE\",\"count\":6100},{\"Ward\":24,\"Primary Type\":\"NARCOTICS\",\"count\":64305},{\"Ward\":24,\"Primary Type\":\"BATTERY\",\"count\":60112},{\"Ward\":24,\"Primary Type\":\"THEFT\",\"count\":33694},{\"Ward\":24,\"Primary Type\":\"CRIMINAL DAMAGE\",\"count\":26663},{\"Ward\":24,\"Primary Type\":\"ASSAULT\",\"count\":18638},{\"Ward\":25,\"Primary Type\":\"THEFT\",\"count\":27605},{\"Ward\":25,\"Primary Type\":\"BATTERY\",\"count\":17071},{\"Ward\":25,\"Primary Type\":\"CRIMINAL DAMAGE\",\"count\":13941},{\"Ward\":25,\"Primary Type\":\"ASSAULT\",\"count\":7338},{\"Ward\":25,\"Primary Type\":\"MOTOR VEHICLE THEFT\",\"count\":6421},{\"Ward\":26,\"Primary Type\":\"BATTERY\",\"count\":23614},{\"Ward\":26,\"Primary Type\":\"THEFT\",\"count\":22351},{\"Ward\":26,\"Primary Type\":\"CRIMINAL DAMAGE\",\"count\":14732},{\"Ward\":26,\"Primary Type\":\"NARCOTICS\",\"count\":12242},{\"Ward\":26,\"Primary Type\":\"ASSAULT\",\"count\":8751},{\"Ward\":27,\"Primary Type\":\"THEFT\",\"count\":63610},{\"Ward\":27,\"Primary Type\":\"NARCOTICS\",\"count\":48050},{\"Ward\":27,\"Primary Type\":\"BATTERY\",\"count\":46637},{\"Ward\":27,\"Primary Type\":\"CRIMINAL DAMAGE\",\"count\":26351},{\"Ward\":27,\"Primary Type\":\"ASSAULT\",\"count\":15237},{\"Ward\":28,\"Primary Type\":\"NARCOTICS\",\"count\":82120},{\"Ward\":28,\"Primary Type\":\"BATTERY\",\"count\":68391},{\"Ward\":28,\"Primary Type\":\"THEFT\",\"count\":39431},{\"Ward\":28,\"Primary Type\":\"CRIMINAL DAMAGE\",\"count\":27875},{\"Ward\":28,\"Primary Type\":\"ASSAULT\",\"count\":21455},{\"Ward\":29,\"Primary Type\":\"BATTERY\",\"count\":37018},{\"Ward\":29,\"Primary Type\":\"NARCOTICS\",\"count\":23807},{\"Ward\":29,\"Primary Type\":\"THEFT\",\"count\":23225},{\"Ward\":29,\"Primary Type\":\"CRIMINAL DAMAGE\",\"count\":18468},{\"Ward\":29,\"Primary Type\":\"ASSAULT\",\"count\":12497},{\"Ward\":30,\"Primary Type\":\"BATTERY\",\"count\":17820},{\"Ward\":30,\"Primary Type\":\"THEFT\",\"count\":17715},{\"Ward\":30,\"Primary Type\":\"CRIMINAL DAMAGE\",\"count\":12362},{\"Ward\":30,\"Primary Type\":\"MOTOR VEHICLE THEFT\",\"count\":7029},{\"Ward\":30,\"Primary Type\":\"OTHER OFFENSE\",\"count\":6993},{\"Ward\":31,\"Primary Type\":\"THEFT\",\"count\":18629},{\"Ward\":31,\"Primary Type\":\"BATTERY\",\"count\":17397},{\"Ward\":31,\"Primary Type\":\"CRIMINAL DAMAGE\",\"count\":13003},{\"Ward\":31,\"Primary Type\":\"OTHER OFFENSE\",\"count\":7680},{\"Ward\":31,\"Primary Type\":\"MOTOR VEHICLE THEFT\",\"count\":7675},{\"Ward\":32,\"Primary Type\":\"THEFT\",\"count\":49386},{\"Ward\":32,\"Primary Type\":\"CRIMINAL DAMAGE\",\"count\":14365},{\"Ward\":32,\"Primary Type\":\"BATTERY\",\"count\":10847},{\"Ward\":32,\"Primary Type\":\"BURGLARY\",\"count\":10833},{\"Ward\":32,\"Primary Type\":\"DECEPTIVE PRACTICE\",\"count\":7604},{\"Ward\":33,\"Primary Type\":\"THEFT\",\"count\":15549},{\"Ward\":33,\"Primary Type\":\"BATTERY\",\"count\":12653},{\"Ward\":33,\"Primary Type\":\"CRIMINAL DAMAGE\",\"count\":10480},{\"Ward\":33,\"Primary Type\":\"BURGLARY\",\"count\":5010},{\"Ward\":33,\"Primary Type\":\"OTHER OFFENSE\",\"count\":5003},{\"Ward\":34,\"Primary Type\":\"BATTERY\",\"count\":43220},{\"Ward\":34,\"Primary Type\":\"THEFT\",\"count\":29908},{\"Ward\":34,\"Primary Type\":\"CRIMINAL DAMAGE\",\"count\":26016},{\"Ward\":34,\"Primary Type\":\"NARCOTICS\",\"count\":21025},{\"Ward\":34,\"Primary Type\":\"ASSAULT\",\"count\":16436},{\"Ward\":35,\"Primary Type\":\"THEFT\",\"count\":23258},{\"Ward\":35,\"Primary Type\":\"BATTERY\",\"count\":15613},{\"Ward\":35,\"Primary Type\":\"CRIMINAL DAMAGE\",\"count\":12055},{\"Ward\":35,\"Primary Type\":\"BURGLARY\",\"count\":6863},{\"Ward\":35,\"Primary Type\":\"MOTOR VEHICLE THEFT\",\"count\":6565},{\"Ward\":36,\"Primary Type\":\"THEFT\",\"count\":20444},{\"Ward\":36,\"Primary Type\":\"CRIMINAL DAMAGE\",\"count\":11608},{\"Ward\":36,\"Primary Type\":\"BATTERY\",\"count\":11602},{\"Ward\":36,\"Primary Type\":\"OTHER OFFENSE\",\"count\":6407},{\"Ward\":36,\"Primary Type\":\"BURGLARY\",\"count\":5758},{\"Ward\":37,\"Primary Type\":\"BATTERY\",\"count\":39530},{\"Ward\":37,\"Primary Type\":\"NARCOTICS\",\"count\":33891},{\"Ward\":37,\"Primary Type\":\"THEFT\",\"count\":30034},{\"Ward\":37,\"Primary Type\":\"CRIMINAL DAMAGE\",\"count\":19149},{\"Ward\":37,\"Primary Type\":\"ASSAULT\",\"count\":13148},{\"Ward\":38,\"Primary Type\":\"THEFT\",\"count\":16841},{\"Ward\":38,\"Primary Type\":\"BATTERY\",\"count\":11859},{\"Ward\":38,\"Primary Type\":\"CRIMINAL DAMAGE\",\"count\":11682},{\"Ward\":38,\"Primary Type\":\"OTHER OFFENSE\",\"count\":6446},{\"Ward\":38,\"Primary Type\":\"BURGLARY\",\"count\":5356},{\"Ward\":39,\"Primary Type\":\"THEFT\",\"count\":17055},{\"Ward\":39,\"Primary Type\":\"BATTERY\",\"count\":10552},{\"Ward\":39,\"Primary Type\":\"CRIMINAL DAMAGE\",\"count\":10017},{\"Ward\":39,\"Primary Type\":\"BURGLARY\",\"count\":5207},{\"Ward\":39,\"Primary Type\":\"OTHER OFFENSE\",\"count\":4886},{\"Ward\":40,\"Primary Type\":\"THEFT\",\"count\":19193},{\"Ward\":40,\"Primary Type\":\"BATTERY\",\"count\":12821},{\"Ward\":40,\"Primary Type\":\"CRIMINAL DAMAGE\",\"count\":10942},{\"Ward\":40,\"Primary Type\":\"OTHER OFFENSE\",\"count\":5644},{\"Ward\":40,\"Primary Type\":\"BURGLARY\",\"count\":4903},{\"Ward\":41,\"Primary Type\":\"THEFT\",\"count\":21780},{\"Ward\":41,\"Primary Type\":\"OTHER OFFENSE\",\"count\":10165},{\"Ward\":41,\"Primary Type\":\"CRIMINAL DAMAGE\",\"count\":9501},{\"Ward\":41,\"Primary Type\":\"BATTERY\",\"count\":9279},{\"Ward\":41,\"Primary Type\":\"DECEPTIVE PRACTICE\",\"count\":7028},{\"Ward\":42,\"Primary Type\":\"THEFT\",\"count\":151254},{\"Ward\":42,\"Primary Type\":\"DECEPTIVE PRACTICE\",\"count\":37322},{\"Ward\":42,\"Primary Type\":\"BATTERY\",\"count\":30312},{\"Ward\":42,\"Primary Type\":\"CRIMINAL DAMAGE\",\"count\":15151},{\"Ward\":42,\"Primary Type\":\"ASSAULT\",\"count\":11359},{\"Ward\":43,\"Primary Type\":\"THEFT\",\"count\":39870},{\"Ward\":43,\"Primary Type\":\"CRIMINAL DAMAGE\",\"count\":10584},{\"Ward\":43,\"Primary Type\":\"BATTERY\",\"count\":8686},{\"Ward\":43,\"Primary Type\":\"DECEPTIVE PRACTICE\",\"count\":7317},{\"Ward\":43,\"Primary Type\":\"BURGLARY\",\"count\":6119},{\"Ward\":44,\"Primary Type\":\"THEFT\",\"count\":39002},{\"Ward\":44,\"Primary Type\":\"BATTERY\",\"count\":13209},{\"Ward\":44,\"Primary Type\":\"CRIMINAL DAMAGE\",\"count\":9515},{\"Ward\":44,\"Primary Type\":\"DECEPTIVE PRACTICE\",\"count\":8834},{\"Ward\":44,\"Primary Type\":\"BURGLARY\",\"count\":6583},{\"Ward\":45,\"Primary Type\":\"THEFT\",\"count\":19149},{\"Ward\":45,\"Primary Type\":\"CRIMINAL DAMAGE\",\"count\":11162},{\"Ward\":45,\"Primary Type\":\"BATTERY\",\"count\":10971},{\"Ward\":45,\"Primary Type\":\"OTHER OFFENSE\",\"count\":6475},{\"Ward\":45,\"Primary Type\":\"DECEPTIVE PRACTICE\",\"count\":5123},{\"Ward\":46,\"Primary Type\":\"THEFT\",\"count\":26276},{\"Ward\":46,\"Primary Type\":\"BATTERY\",\"count\":16780},{\"Ward\":46,\"Primary Type\":\"NARCOTICS\",\"count\":9641},{\"Ward\":46,\"Primary Type\":\"CRIMINAL DAMAGE\",\"count\":8598},{\"Ward\":46,\"Primary Type\":\"DECEPTIVE PRACTICE\",\"count\":7598},{\"Ward\":47,\"Primary Type\":\"THEFT\",\"count\":25134},{\"Ward\":47,\"Primary Type\":\"CRIMINAL DAMAGE\",\"count\":10161},{\"Ward\":47,\"Primary Type\":\"BATTERY\",\"count\":7974},{\"Ward\":47,\"Primary Type\":\"BURGLARY\",\"count\":6636},{\"Ward\":47,\"Primary Type\":\"DECEPTIVE PRACTICE\",\"count\":5783},{\"Ward\":48,\"Primary Type\":\"THEFT\",\"count\":20797},{\"Ward\":48,\"Primary Type\":\"BATTERY\",\"count\":12922},{\"Ward\":48,\"Primary Type\":\"CRIMINAL DAMAGE\",\"count\":7429},{\"Ward\":48,\"Primary Type\":\"OTHER OFFENSE\",\"count\":5110},{\"Ward\":48,\"Primary Type\":\"DECEPTIVE PRACTICE\",\"count\":5016},{\"Ward\":49,\"Primary Type\":\"THEFT\",\"count\":23737},{\"Ward\":49,\"Primary Type\":\"BATTERY\",\"count\":19411},{\"Ward\":49,\"Primary Type\":\"CRIMINAL DAMAGE\",\"count\":12497},{\"Ward\":49,\"Primary Type\":\"NARCOTICS\",\"count\":9016},{\"Ward\":49,\"Primary Type\":\"OTHER OFFENSE\",\"count\":7198},{\"Ward\":50,\"Primary Type\":\"THEFT\",\"count\":19382},{\"Ward\":50,\"Primary Type\":\"BATTERY\",\"count\":11642},{\"Ward\":50,\"Primary Type\":\"CRIMINAL DAMAGE\",\"count\":11047},{\"Ward\":50,\"Primary Type\":\"BURGLARY\",\"count\":5510},{\"Ward\":50,\"Primary Type\":\"OTHER OFFENSE\",\"count\":5259}]'"
      ]
     },
     "execution_count": 172,
     "metadata": {},
     "output_type": "execute_result"
    }
   ],
   "source": [
    "data.to_json(orient='records')"
   ]
  },
  {
   "cell_type": "code",
   "execution_count": 143,
   "id": "1280e5ef",
   "metadata": {},
   "outputs": [
    {
     "data": {
      "application/javascript": [
       "const spec = {\"$schema\": \"https://vega.github.io/schema/vega-lite/v5.json\", \"data\": {\"url\": \"viz8.json\"}, \"params\": [{\"name\": \"pts\", \"select\": {\"type\": \"point\", \"fields\": [\"Primary Type\"], \"toggle\": false}}], \"mark\": \"point\", \"encoding\": {\"x\": {\"field\": \"Ward\", \"type\": \"ordinal\"}, \"y\": {\"field\": \"count\", \"type\": \"quantitative\"}, \"color\": {\"condition\": {\"param\": \"pts\", \"field\": \"Arrest\", \"type\": \"nominal\", \"scale\": {\"scheme\": \"yelloworangebrown\"}}, \"value\": \"grey\"}, \"shape\": {\"condition\": {\"param\": \"pts\", \"field\": \"Primary Type\", \"type\": \"nominal\", \"scale\": {\"range\": [\"triangle-left\", \"triangle-right\", \"triangle-up\", \"trianlge-down\", \"square\"]}}, \"value\": \"circle\"}, \"size\": {\"condition\": {\"param\": \"pts\", \"value\": 200}, \"value\": 50}}};\n",
       "const opt = {};\n",
       "const type = \"vega-lite\";\n",
       "const id = \"6d331e7b-2e58-4cd3-a4eb-b782508cddfa\";\n",
       "\n",
       "const output_area = this;\n",
       "\n",
       "require([\"jupyter-vega\"], function(vega) {\n",
       "  const target = document.createElement(\"div\");\n",
       "  target.id = id;\n",
       "  target.className = \"vega-embed\";\n",
       "\n",
       "  const style = document.createElement(\"style\");\n",
       "  style.textContent = [\n",
       "    \".vega-embed .error p {\",\n",
       "    \"  color: firebrick;\",\n",
       "    \"  font-size: 14px;\",\n",
       "    \"}\",\n",
       "  ].join(\"\\\\n\");\n",
       "\n",
       "  // element is a jQuery wrapped DOM element inside the output area\n",
       "  // see http://ipython.readthedocs.io/en/stable/api/generated/\\\n",
       "  // IPython.display.html#IPython.display.Javascript.__init__\n",
       "  element[0].appendChild(target);\n",
       "  element[0].appendChild(style);\n",
       "  vega.render(`#${id}`, spec, type, opt, output_area);\n",
       "}, function (err) {\n",
       "  if (err.requireType !== \"scripterror\") {\n",
       "    throw(err);\n",
       "  }\n",
       "});\n"
      ],
      "text/plain": [
       "<vega.vegalite.VegaLite at 0x7f574c117bb0>"
      ]
     },
     "execution_count": 143,
     "metadata": {
      "jupyter-vega": "#6d331e7b-2e58-4cd3-a4eb-b782508cddfa"
     },
     "output_type": "execute_result"
    }
   ],
   "source": [
    "types = {\n",
    "  \"$schema\": \"https://vega.github.io/schema/vega-lite/v5.json\",\n",
    "  \"data\": {\"url\": \"viz8.json\"},\n",
    "  \"params\": [\n",
    "    {\n",
    "      \"name\": \"pts\",\n",
    "      \"select\": {\"type\": \"point\", \"fields\": [\"Primary Type\"], \"toggle\": False}\n",
    "    }\n",
    "  ],\n",
    "  \"mark\": \"point\",\n",
    "  \"encoding\": {\n",
    "    \"x\": {\"field\": \"Ward\", \"type\": \"ordinal\"},\n",
    "    \"y\": {\"field\": \"count\", \"type\": \"quantitative\"},\n",
    "    \"color\": {\n",
    "      \"condition\": {\n",
    "        \"param\": \"pts\",\n",
    "        \"field\": \"Arrest\",\n",
    "        \"type\": \"nominal\",\n",
    "        \"scale\": {\"scheme\": \"yelloworangebrown\"}\n",
    "      },\n",
    "      \"value\": \"grey\"\n",
    "    },\n",
    "    \"shape\": {\n",
    "      \"condition\": {\n",
    "        \"param\": \"pts\",\n",
    "        \"field\": \"Primary Type\",\n",
    "        \"type\": \"nominal\",\n",
    "        \"scale\": {\"range\": [\"triangle-left\", \"triangle-right\", \"triangle-up\", \"trianlge-down\", \"square\"]}\n",
    "      },\n",
    "      \"value\": \"circle\"\n",
    "    },\n",
    "    \"size\": {\"condition\": {\"param\": \"pts\", \"value\": 200}, \"value\": 50}\n",
    "  }\n",
    "}\n",
    "\n",
    "vte(types)"
   ]
  },
  {
   "cell_type": "code",
   "execution_count": 174,
   "id": "a64214ef",
   "metadata": {},
   "outputs": [
    {
     "data": {
      "text/html": [
       "<div>\n",
       "<style scoped>\n",
       "    .dataframe tbody tr th:only-of-type {\n",
       "        vertical-align: middle;\n",
       "    }\n",
       "\n",
       "    .dataframe tbody tr th {\n",
       "        vertical-align: top;\n",
       "    }\n",
       "\n",
       "    .dataframe thead th {\n",
       "        text-align: right;\n",
       "    }\n",
       "</style>\n",
       "<table border=\"1\" class=\"dataframe\">\n",
       "  <thead>\n",
       "    <tr style=\"text-align: right;\">\n",
       "      <th></th>\n",
       "      <th>count</th>\n",
       "      <th>Case Number</th>\n",
       "      <th>Date</th>\n",
       "      <th>Block</th>\n",
       "      <th>IUCR</th>\n",
       "      <th>Primary Type</th>\n",
       "      <th>Description</th>\n",
       "      <th>Location Description</th>\n",
       "      <th>Arrest</th>\n",
       "      <th>Domestic</th>\n",
       "      <th>...</th>\n",
       "      <th>Ward</th>\n",
       "      <th>Community Area</th>\n",
       "      <th>FBI Code</th>\n",
       "      <th>X Coordinate</th>\n",
       "      <th>Y Coordinate</th>\n",
       "      <th>Year</th>\n",
       "      <th>Updated On</th>\n",
       "      <th>Latitude</th>\n",
       "      <th>Longitude</th>\n",
       "      <th>Location</th>\n",
       "    </tr>\n",
       "  </thead>\n",
       "  <tbody>\n",
       "    <tr>\n",
       "      <th>0</th>\n",
       "      <td>5741943</td>\n",
       "      <td>HN549294</td>\n",
       "      <td>08/25/2007 09:22:18 AM</td>\n",
       "      <td>074XX N ROGERS AVE</td>\n",
       "      <td>0560</td>\n",
       "      <td>ASSAULT</td>\n",
       "      <td>SIMPLE</td>\n",
       "      <td>OTHER</td>\n",
       "      <td>False</td>\n",
       "      <td>False</td>\n",
       "      <td>...</td>\n",
       "      <td>49</td>\n",
       "      <td>1.0</td>\n",
       "      <td>08A</td>\n",
       "      <td>NaN</td>\n",
       "      <td>NaN</td>\n",
       "      <td>2007</td>\n",
       "      <td>08/17/2015 03:03:40 PM</td>\n",
       "      <td>NaN</td>\n",
       "      <td>NaN</td>\n",
       "      <td>NaN</td>\n",
       "    </tr>\n",
       "    <tr>\n",
       "      <th>2</th>\n",
       "      <td>13203321</td>\n",
       "      <td>JG415333</td>\n",
       "      <td>09/06/2023 05:00:00 PM</td>\n",
       "      <td>002XX N Wells st</td>\n",
       "      <td>1320</td>\n",
       "      <td>CRIMINAL DAMAGE</td>\n",
       "      <td>TO VEHICLE</td>\n",
       "      <td>PARKING LOT / GARAGE (NON RESIDENTIAL)</td>\n",
       "      <td>False</td>\n",
       "      <td>False</td>\n",
       "      <td>...</td>\n",
       "      <td>42</td>\n",
       "      <td>32.0</td>\n",
       "      <td>14</td>\n",
       "      <td>1174694.0</td>\n",
       "      <td>1901831.0</td>\n",
       "      <td>2023</td>\n",
       "      <td>11/04/2023 03:40:18 PM</td>\n",
       "      <td>41.886018</td>\n",
       "      <td>-87.633938</td>\n",
       "      <td>(41.886018055, -87.633937881)</td>\n",
       "    </tr>\n",
       "    <tr>\n",
       "      <th>3</th>\n",
       "      <td>13210088</td>\n",
       "      <td>JG423627</td>\n",
       "      <td>08/31/2023 12:00:00 PM</td>\n",
       "      <td>023XX W JACKSON BLVD</td>\n",
       "      <td>1153</td>\n",
       "      <td>DECEPTIVE PRACTICE</td>\n",
       "      <td>FINANCIAL IDENTITY THEFT OVER $ 300</td>\n",
       "      <td>STREET</td>\n",
       "      <td>False</td>\n",
       "      <td>False</td>\n",
       "      <td>...</td>\n",
       "      <td>27</td>\n",
       "      <td>28.0</td>\n",
       "      <td>11</td>\n",
       "      <td>1160870.0</td>\n",
       "      <td>1898642.0</td>\n",
       "      <td>2023</td>\n",
       "      <td>09/16/2023 03:41:56 PM</td>\n",
       "      <td>41.877565</td>\n",
       "      <td>-87.684791</td>\n",
       "      <td>(41.877565108, -87.68479102)</td>\n",
       "    </tr>\n",
       "    <tr>\n",
       "      <th>4</th>\n",
       "      <td>13210004</td>\n",
       "      <td>JG422532</td>\n",
       "      <td>07/24/2023 09:45:00 PM</td>\n",
       "      <td>073XX S JEFFERY BLVD</td>\n",
       "      <td>0281</td>\n",
       "      <td>CRIMINAL SEXUAL ASSAULT</td>\n",
       "      <td>NON-AGGRAVATED</td>\n",
       "      <td>APARTMENT</td>\n",
       "      <td>False</td>\n",
       "      <td>False</td>\n",
       "      <td>...</td>\n",
       "      <td>7</td>\n",
       "      <td>43.0</td>\n",
       "      <td>02</td>\n",
       "      <td>1190812.0</td>\n",
       "      <td>1856743.0</td>\n",
       "      <td>2023</td>\n",
       "      <td>09/16/2023 03:41:56 PM</td>\n",
       "      <td>41.761919</td>\n",
       "      <td>-87.576209</td>\n",
       "      <td>(41.7619185, -87.576209245)</td>\n",
       "    </tr>\n",
       "    <tr>\n",
       "      <th>5</th>\n",
       "      <td>13210062</td>\n",
       "      <td>JG423596</td>\n",
       "      <td>08/27/2023 07:00:00 AM</td>\n",
       "      <td>034XX N LAWNDALE AVE</td>\n",
       "      <td>0820</td>\n",
       "      <td>THEFT</td>\n",
       "      <td>$500 AND UNDER</td>\n",
       "      <td>APARTMENT</td>\n",
       "      <td>False</td>\n",
       "      <td>False</td>\n",
       "      <td>...</td>\n",
       "      <td>30</td>\n",
       "      <td>21.0</td>\n",
       "      <td>06</td>\n",
       "      <td>1151117.0</td>\n",
       "      <td>1922554.0</td>\n",
       "      <td>2023</td>\n",
       "      <td>09/16/2023 03:41:56 PM</td>\n",
       "      <td>41.943379</td>\n",
       "      <td>-87.719974</td>\n",
       "      <td>(41.943378528, -87.7199738)</td>\n",
       "    </tr>\n",
       "  </tbody>\n",
       "</table>\n",
       "<p>5 rows × 22 columns</p>\n",
       "</div>"
      ],
      "text/plain": [
       "      count Case Number                    Date                 Block  IUCR  \\\n",
       "0   5741943    HN549294  08/25/2007 09:22:18 AM    074XX N ROGERS AVE  0560   \n",
       "2  13203321    JG415333  09/06/2023 05:00:00 PM      002XX N Wells st  1320   \n",
       "3  13210088    JG423627  08/31/2023 12:00:00 PM  023XX W JACKSON BLVD  1153   \n",
       "4  13210004    JG422532  07/24/2023 09:45:00 PM  073XX S JEFFERY BLVD  0281   \n",
       "5  13210062    JG423596  08/27/2023 07:00:00 AM  034XX N LAWNDALE AVE  0820   \n",
       "\n",
       "              Primary Type                          Description  \\\n",
       "0                  ASSAULT                               SIMPLE   \n",
       "2          CRIMINAL DAMAGE                           TO VEHICLE   \n",
       "3       DECEPTIVE PRACTICE  FINANCIAL IDENTITY THEFT OVER $ 300   \n",
       "4  CRIMINAL SEXUAL ASSAULT                       NON-AGGRAVATED   \n",
       "5                    THEFT                       $500 AND UNDER   \n",
       "\n",
       "                     Location Description  Arrest  Domestic  ...  Ward  \\\n",
       "0                                   OTHER   False     False  ...    49   \n",
       "2  PARKING LOT / GARAGE (NON RESIDENTIAL)   False     False  ...    42   \n",
       "3                                  STREET   False     False  ...    27   \n",
       "4                               APARTMENT   False     False  ...     7   \n",
       "5                               APARTMENT   False     False  ...    30   \n",
       "\n",
       "   Community Area  FBI Code  X Coordinate Y Coordinate  Year  \\\n",
       "0             1.0       08A           NaN          NaN  2007   \n",
       "2            32.0        14     1174694.0    1901831.0  2023   \n",
       "3            28.0        11     1160870.0    1898642.0  2023   \n",
       "4            43.0        02     1190812.0    1856743.0  2023   \n",
       "5            21.0        06     1151117.0    1922554.0  2023   \n",
       "\n",
       "               Updated On   Latitude  Longitude                       Location  \n",
       "0  08/17/2015 03:03:40 PM        NaN        NaN                            NaN  \n",
       "2  11/04/2023 03:40:18 PM  41.886018 -87.633938  (41.886018055, -87.633937881)  \n",
       "3  09/16/2023 03:41:56 PM  41.877565 -87.684791   (41.877565108, -87.68479102)  \n",
       "4  09/16/2023 03:41:56 PM  41.761919 -87.576209    (41.7619185, -87.576209245)  \n",
       "5  09/16/2023 03:41:56 PM  41.943379 -87.719974    (41.943378528, -87.7199738)  \n",
       "\n",
       "[5 rows x 22 columns]"
      ]
     },
     "execution_count": 174,
     "metadata": {},
     "output_type": "execute_result"
    }
   ],
   "source": [
    "cdfc.head()#.copy()[[\"Primary Type\", \"Year\", \"Count\"]]"
   ]
  },
  {
   "cell_type": "code",
   "execution_count": 4,
   "id": "80605c0e",
   "metadata": {},
   "outputs": [],
   "source": [
    "df_month = cdfc.copy() # making a new dataframe\n",
    "df_month['Date'] = df_month[\"Date\"].map(lambda x: datetime.strptime(x, \"%m/%d/%Y %I:%M:%S %p\")) # here to get datatime obj"
   ]
  },
  {
   "cell_type": "code",
   "execution_count": 5,
   "id": "36bbf897",
   "metadata": {},
   "outputs": [],
   "source": [
    "spDate = df_month[(df_month[\"Ward\"].notnull())].copy()\n",
    "spDate['month'] = spDate[\"Date\"].map(lambda x: datetime.strftime(x, '%b'))"
   ]
  },
  {
   "cell_type": "code",
   "execution_count": 15,
   "id": "f2fde3ab",
   "metadata": {},
   "outputs": [
    {
     "data": {
      "text/html": [
       "<div>\n",
       "<style scoped>\n",
       "    .dataframe tbody tr th:only-of-type {\n",
       "        vertical-align: middle;\n",
       "    }\n",
       "\n",
       "    .dataframe tbody tr th {\n",
       "        vertical-align: top;\n",
       "    }\n",
       "\n",
       "    .dataframe thead th {\n",
       "        text-align: right;\n",
       "    }\n",
       "</style>\n",
       "<table border=\"1\" class=\"dataframe\">\n",
       "  <thead>\n",
       "    <tr style=\"text-align: right;\">\n",
       "      <th></th>\n",
       "      <th>Year</th>\n",
       "      <th>month</th>\n",
       "      <th>Primary Type</th>\n",
       "      <th>count</th>\n",
       "    </tr>\n",
       "  </thead>\n",
       "  <tbody>\n",
       "    <tr>\n",
       "      <th>67</th>\n",
       "      <td>2001</td>\n",
       "      <td>Jan</td>\n",
       "      <td>ASSAULT</td>\n",
       "      <td>2</td>\n",
       "    </tr>\n",
       "    <tr>\n",
       "      <th>68</th>\n",
       "      <td>2001</td>\n",
       "      <td>Jan</td>\n",
       "      <td>BATTERY</td>\n",
       "      <td>2</td>\n",
       "    </tr>\n",
       "    <tr>\n",
       "      <th>69</th>\n",
       "      <td>2001</td>\n",
       "      <td>Jan</td>\n",
       "      <td>BURGLARY</td>\n",
       "      <td>2</td>\n",
       "    </tr>\n",
       "    <tr>\n",
       "      <th>70</th>\n",
       "      <td>2001</td>\n",
       "      <td>Jan</td>\n",
       "      <td>CRIM SEXUAL ASSAULT</td>\n",
       "      <td>31</td>\n",
       "    </tr>\n",
       "    <tr>\n",
       "      <th>71</th>\n",
       "      <td>2001</td>\n",
       "      <td>Jan</td>\n",
       "      <td>CRIMINAL SEXUAL ASSAULT</td>\n",
       "      <td>5</td>\n",
       "    </tr>\n",
       "    <tr>\n",
       "      <th>...</th>\n",
       "      <td>...</td>\n",
       "      <td>...</td>\n",
       "      <td>...</td>\n",
       "      <td>...</td>\n",
       "    </tr>\n",
       "    <tr>\n",
       "      <th>7666</th>\n",
       "      <td>2023</td>\n",
       "      <td>Oct</td>\n",
       "      <td>ROBBERY</td>\n",
       "      <td>1048</td>\n",
       "    </tr>\n",
       "    <tr>\n",
       "      <th>7667</th>\n",
       "      <td>2023</td>\n",
       "      <td>Oct</td>\n",
       "      <td>SEX OFFENSE</td>\n",
       "      <td>97</td>\n",
       "    </tr>\n",
       "    <tr>\n",
       "      <th>7668</th>\n",
       "      <td>2023</td>\n",
       "      <td>Oct</td>\n",
       "      <td>STALKING</td>\n",
       "      <td>36</td>\n",
       "    </tr>\n",
       "    <tr>\n",
       "      <th>7669</th>\n",
       "      <td>2023</td>\n",
       "      <td>Oct</td>\n",
       "      <td>THEFT</td>\n",
       "      <td>4324</td>\n",
       "    </tr>\n",
       "    <tr>\n",
       "      <th>7670</th>\n",
       "      <td>2023</td>\n",
       "      <td>Oct</td>\n",
       "      <td>WEAPONS VIOLATION</td>\n",
       "      <td>615</td>\n",
       "    </tr>\n",
       "  </tbody>\n",
       "</table>\n",
       "<p>7699 rows × 4 columns</p>\n",
       "</div>"
      ],
      "text/plain": [
       "      Year month             Primary Type  count\n",
       "67    2001   Jan                  ASSAULT      2\n",
       "68    2001   Jan                  BATTERY      2\n",
       "69    2001   Jan                 BURGLARY      2\n",
       "70    2001   Jan      CRIM SEXUAL ASSAULT     31\n",
       "71    2001   Jan  CRIMINAL SEXUAL ASSAULT      5\n",
       "...    ...   ...                      ...    ...\n",
       "7666  2023   Oct                  ROBBERY   1048\n",
       "7667  2023   Oct              SEX OFFENSE     97\n",
       "7668  2023   Oct                 STALKING     36\n",
       "7669  2023   Oct                    THEFT   4324\n",
       "7670  2023   Oct        WEAPONS VIOLATION    615\n",
       "\n",
       "[7699 rows x 4 columns]"
      ]
     },
     "execution_count": 15,
     "metadata": {},
     "output_type": "execute_result"
    }
   ],
   "source": [
    "df_month = cdfc.copy() # making a new dataframe\n",
    "df_month['Date'] = df_month[\"Date\"].map(lambda x: datetime.strptime(x, \"%m/%d/%Y %I:%M:%S %p\")) # here to get datatime obj\n",
    "spDate = df_month[(df_month[\"Ward\"].notnull())].copy()\n",
    "spDate['month'] = spDate[\"Date\"].map(lambda x: datetime.strftime(x, '%b'))\n",
    "spDate = spDate[['count', 'month', \"Primary Type\", \"Year\"]].groupby([\"Year\",'month', 'Primary Type']).count().reset_index()\n",
    "# # This is here to sort the months in calander order\n",
    "months = [\"Jan\", \"Feb\", \"Mar\", \"Apr\", \"May\", \"Jun\", \n",
    "          \"Jul\", \"Aug\", \"Sep\", \"Oct\", \"Nov\", \"Dec\"]\n",
    "spDate['month'] = pd.Categorical(spDate['month'], categories=months, ordered=True)\n",
    "spDate = spDate.sort_values(by=[\"Year\", \"month\"])\n",
    "spDate"
   ]
  },
  {
   "cell_type": "code",
   "execution_count": 16,
   "id": "75ccb943",
   "metadata": {},
   "outputs": [],
   "source": [
    "with open('viz9.json', 'w', encoding='utf-8') as v1:\n",
    "    v1.write(spDate.to_json(orient='records'))"
   ]
  },
  {
   "cell_type": "code",
   "execution_count": 25,
   "id": "baa49c09",
   "metadata": {},
   "outputs": [
    {
     "data": {
      "application/javascript": [
       "const spec = {\"$schema\": \"https://vega.github.io/schema/vega-lite/v5.json\", \"width\": 800, \"height\": 200, \"data\": {\"url\": \"viz9.json\"}, \"params\": [{\"name\": \"Filter_By_Year\", \"value\": 2001, \"bind\": {\"input\": \"range\", \"min\": 2001, \"max\": 2023, \"step\": 1}}], \"mark\": \"rect\", \"transform\": [{\"filter\": {\"param\": \"Filter_By_Year\"}}], \"encoding\": {\"y\": {\"field\": \"month\", \"type\": \"ordinal\"}, \"x\": {\"field\": \"Primary Type\", \"type\": \"ordinal\"}, \"color\": {\"aggregate\": \"sum\", \"field\": \"count\"}, \"tooltip\": [{\"field\": \"month\", \"type\": \"nominal\"}, {\"field\": \"Primary Type\", \"type\": \"ordinal\"}, {\"field\": \"count\", \"type\": \"quantitative\"}]}};\n",
       "const opt = {};\n",
       "const type = \"vega-lite\";\n",
       "const id = \"4e3af39e-2269-40c1-a0b4-dd2075bd7592\";\n",
       "\n",
       "const output_area = this;\n",
       "\n",
       "require([\"jupyter-vega\"], function(vega) {\n",
       "  const target = document.createElement(\"div\");\n",
       "  target.id = id;\n",
       "  target.className = \"vega-embed\";\n",
       "\n",
       "  const style = document.createElement(\"style\");\n",
       "  style.textContent = [\n",
       "    \".vega-embed .error p {\",\n",
       "    \"  color: firebrick;\",\n",
       "    \"  font-size: 14px;\",\n",
       "    \"}\",\n",
       "  ].join(\"\\\\n\");\n",
       "\n",
       "  // element is a jQuery wrapped DOM element inside the output area\n",
       "  // see http://ipython.readthedocs.io/en/stable/api/generated/\\\n",
       "  // IPython.display.html#IPython.display.Javascript.__init__\n",
       "  element[0].appendChild(target);\n",
       "  element[0].appendChild(style);\n",
       "  vega.render(`#${id}`, spec, type, opt, output_area);\n",
       "}, function (err) {\n",
       "  if (err.requireType !== \"scripterror\") {\n",
       "    throw(err);\n",
       "  }\n",
       "});\n"
      ],
      "text/plain": [
       "<vega.vegalite.VegaLite at 0x7f846befa820>"
      ]
     },
     "execution_count": 25,
     "metadata": {
      "jupyter-vega": "#4e3af39e-2269-40c1-a0b4-dd2075bd7592"
     },
     "output_type": "execute_result"
    }
   ],
   "source": [
    "heatDSpec = {\n",
    "  \"$schema\": \"https://vega.github.io/schema/vega-lite/v5.json\",\n",
    "  \"width\": 800,\n",
    "  \"height\": 200,\n",
    "  \"data\": {'url': 'viz9.json'},\n",
    "  \"params\": [\n",
    "      {'name':\"Filter_By_Year\", \"value\": 2001, \"bind\": {\"input\": \"range\", \"min\": 2001, \"max\": 2023, \"step\": 1}}\n",
    "  ],\n",
    "  \"mark\": \"rect\",\n",
    "  \"transform\": [\n",
    "      {\"filter\": {\"param\": \"Filter_By_Year\", \"\"}}\n",
    "    ],\n",
    "  \"encoding\": {\n",
    "    \"y\": {\"field\": \"month\", \"type\": \"ordinal\"},\n",
    "    \"x\": {\"field\": \"Primary Type\", \"type\": \"ordinal\"},\n",
    "    \"color\": {\"aggregate\": \"sum\",\"field\": \"count\"},\n",
    "      'tooltip': [\n",
    "          {'field':'month', 'type':'nominal'},\n",
    "          {'field':'Primary Type', \"type\":'ordinal'},\n",
    "          {'field':'count','type':\"quantitative\"}\n",
    "      ]\n",
    "  },\n",
    "#   \"config\": {\n",
    "#     \"axis\": {\"grid\": True, \"tickBand\": \"extent\"}\n",
    "#   }\n",
    "}\n",
    "\n",
    "vte(heatDSpec)"
   ]
  },
  {
   "cell_type": "code",
   "execution_count": 7,
   "id": "2f27d3ec",
   "metadata": {},
   "outputs": [
    {
     "data": {
      "text/plain": [
       "'10/28/2023 12:00:00 AM'"
      ]
     },
     "execution_count": 7,
     "metadata": {},
     "output_type": "execute_result"
    }
   ],
   "source": [
    "cdfc[cdfc[\"Primary Type\"]]"
   ]
  },
  {
   "cell_type": "code",
   "execution_count": 37,
   "id": "6cab2438",
   "metadata": {},
   "outputs": [],
   "source": [
    "\n",
    "crimeT = cdfc[\"Primary Type\"].unique().tolist()"
   ]
  },
  {
   "cell_type": "code",
   "execution_count": 36,
   "id": "03d4732f",
   "metadata": {},
   "outputs": [
    {
     "data": {
      "text/html": [
       "<div>\n",
       "<style scoped>\n",
       "    .dataframe tbody tr th:only-of-type {\n",
       "        vertical-align: middle;\n",
       "    }\n",
       "\n",
       "    .dataframe tbody tr th {\n",
       "        vertical-align: top;\n",
       "    }\n",
       "\n",
       "    .dataframe thead th {\n",
       "        text-align: right;\n",
       "    }\n",
       "</style>\n",
       "<table border=\"1\" class=\"dataframe\">\n",
       "  <thead>\n",
       "    <tr style=\"text-align: right;\">\n",
       "      <th></th>\n",
       "      <th>Year</th>\n",
       "      <th>Ward</th>\n",
       "      <th>Primary Type</th>\n",
       "      <th>count</th>\n",
       "    </tr>\n",
       "  </thead>\n",
       "  <tbody>\n",
       "    <tr>\n",
       "      <th>0</th>\n",
       "      <td>2001</td>\n",
       "      <td>1</td>\n",
       "      <td>ASSAULT</td>\n",
       "      <td>2</td>\n",
       "    </tr>\n",
       "    <tr>\n",
       "      <th>1</th>\n",
       "      <td>2001</td>\n",
       "      <td>1</td>\n",
       "      <td>CRIMINAL SEXUAL ASSAULT</td>\n",
       "      <td>3</td>\n",
       "    </tr>\n",
       "    <tr>\n",
       "      <th>2</th>\n",
       "      <td>2001</td>\n",
       "      <td>1</td>\n",
       "      <td>DECEPTIVE PRACTICE</td>\n",
       "      <td>12</td>\n",
       "    </tr>\n",
       "    <tr>\n",
       "      <th>3</th>\n",
       "      <td>2001</td>\n",
       "      <td>1</td>\n",
       "      <td>HOMICIDE</td>\n",
       "      <td>16</td>\n",
       "    </tr>\n",
       "    <tr>\n",
       "      <th>4</th>\n",
       "      <td>2001</td>\n",
       "      <td>1</td>\n",
       "      <td>MOTOR VEHICLE THEFT</td>\n",
       "      <td>18</td>\n",
       "    </tr>\n",
       "    <tr>\n",
       "      <th>...</th>\n",
       "      <td>...</td>\n",
       "      <td>...</td>\n",
       "      <td>...</td>\n",
       "      <td>...</td>\n",
       "    </tr>\n",
       "    <tr>\n",
       "      <th>28360</th>\n",
       "      <td>2023</td>\n",
       "      <td>50</td>\n",
       "      <td>ROBBERY</td>\n",
       "      <td>72</td>\n",
       "    </tr>\n",
       "    <tr>\n",
       "      <th>28361</th>\n",
       "      <td>2023</td>\n",
       "      <td>50</td>\n",
       "      <td>SEX OFFENSE</td>\n",
       "      <td>16</td>\n",
       "    </tr>\n",
       "    <tr>\n",
       "      <th>28362</th>\n",
       "      <td>2023</td>\n",
       "      <td>50</td>\n",
       "      <td>STALKING</td>\n",
       "      <td>2</td>\n",
       "    </tr>\n",
       "    <tr>\n",
       "      <th>28363</th>\n",
       "      <td>2023</td>\n",
       "      <td>50</td>\n",
       "      <td>THEFT</td>\n",
       "      <td>569</td>\n",
       "    </tr>\n",
       "    <tr>\n",
       "      <th>28364</th>\n",
       "      <td>2023</td>\n",
       "      <td>50</td>\n",
       "      <td>WEAPONS VIOLATION</td>\n",
       "      <td>20</td>\n",
       "    </tr>\n",
       "  </tbody>\n",
       "</table>\n",
       "<p>28365 rows × 4 columns</p>\n",
       "</div>"
      ],
      "text/plain": [
       "       Year  Ward             Primary Type  count\n",
       "0      2001     1                  ASSAULT      2\n",
       "1      2001     1  CRIMINAL SEXUAL ASSAULT      3\n",
       "2      2001     1       DECEPTIVE PRACTICE     12\n",
       "3      2001     1                 HOMICIDE     16\n",
       "4      2001     1      MOTOR VEHICLE THEFT     18\n",
       "...     ...   ...                      ...    ...\n",
       "28360  2023    50                  ROBBERY     72\n",
       "28361  2023    50              SEX OFFENSE     16\n",
       "28362  2023    50                 STALKING      2\n",
       "28363  2023    50                    THEFT    569\n",
       "28364  2023    50        WEAPONS VIOLATION     20\n",
       "\n",
       "[28365 rows x 4 columns]"
      ]
     },
     "execution_count": 36,
     "metadata": {},
     "output_type": "execute_result"
    }
   ],
   "source": [
    "cdfc[[\"Ward\", \"Primary Type\", \"Year\", \"count\"]].groupby(['Year',\"Ward\",\"Primary Type\"]).count().reset_index()\n"
   ]
  },
  {
   "cell_type": "code",
   "execution_count": null,
   "id": "10183d36",
   "metadata": {},
   "outputs": [],
   "source": []
  },
  {
   "cell_type": "code",
   "execution_count": 5,
   "id": "8752069a",
   "metadata": {},
   "outputs": [],
   "source": [
    "total_crimes = cdfc.copy()[['Ward', 'count']].groupby(['Ward']).count()\n",
    "tc_w = total_crimes.merge(wdf, on='Ward', how='inner')\n",
    "tc_w['crimes_in_Thsnd'] = (tc_w['count'] / 1000).round(0).astype(int)\n",
    "\n",
    "tc_w = tc_w[[\"Ward\", 'crimes_in_Thsnd']]"
   ]
  },
  {
   "cell_type": "code",
   "execution_count": 6,
   "id": "ccf906d5",
   "metadata": {},
   "outputs": [],
   "source": [
    "tc_y = cdfc.copy()[['count', 'Year']]\n",
    "# tc_y = tc_y[tc_y['Year']>2018]\n",
    "tc_y = tc_y.groupby([\"Year\"]).count().reset_index()\n"
   ]
  },
  {
   "cell_type": "code",
   "execution_count": 14,
   "id": "ad90aa56",
   "metadata": {},
   "outputs": [
    {
     "name": "stdout",
     "output_type": "stream",
     "text": [
      "[{\"Year\":2001,\"count\":4311},{\"Year\":2002,\"count\":353698},{\"Year\":2003,\"count\":475967},{\"Year\":2004,\"count\":469402},{\"Year\":2005,\"count\":453773},{\"Year\":2006,\"count\":448176},{\"Year\":2007,\"count\":437086},{\"Year\":2008,\"count\":427181},{\"Year\":2009,\"count\":392825},{\"Year\":2010,\"count\":370500},{\"Year\":2011,\"count\":351983},{\"Year\":2012,\"count\":336320},{\"Year\":2013,\"count\":307539},{\"Year\":2014,\"count\":275795},{\"Year\":2015,\"count\":264806},{\"Year\":2016,\"count\":269841},{\"Year\":2017,\"count\":269112},{\"Year\":2018,\"count\":268922},{\"Year\":2019,\"count\":261359},{\"Year\":2020,\"count\":212232},{\"Year\":2021,\"count\":208925},{\"Year\":2022,\"count\":239018},{\"Year\":2023,\"count\":214348}]\n"
     ]
    }
   ],
   "source": [
    "with open('viz1.json', 'w', encoding='utf-8') as v1:\n",
    "    v1.write(tc_y.to_json(orient='records'))\n",
    "    \n",
    "print(tc_y.to_json(orient='records'))"
   ]
  },
  {
   "cell_type": "code",
   "execution_count": 17,
   "id": "35a9c0a5",
   "metadata": {},
   "outputs": [
    {
     "data": {
      "application/javascript": [
       "const spec = {\"title\": \"Crime per Year\", \"data\": {\"url\": \"viz1.json\"}, \"mark\": \"arc\", \"encoding\": {\"theta\": {\"field\": \"count\", \"type\": \"quantitative\"}, \"color\": {\"field\": \"Year\", \"type\": \"ordinal\"}, \"tooltip\": [{\"field\": \"Year\", \"type\": \"ordinal\"}, {\"field\": \"count\", \"type\": \"quantitative\"}]}};\n",
       "const opt = {};\n",
       "const type = \"vega-lite\";\n",
       "const id = \"c09bb46b-236f-4039-81ad-a4834446e9a7\";\n",
       "\n",
       "const output_area = this;\n",
       "\n",
       "require([\"jupyter-vega\"], function(vega) {\n",
       "  const target = document.createElement(\"div\");\n",
       "  target.id = id;\n",
       "  target.className = \"vega-embed\";\n",
       "\n",
       "  const style = document.createElement(\"style\");\n",
       "  style.textContent = [\n",
       "    \".vega-embed .error p {\",\n",
       "    \"  color: firebrick;\",\n",
       "    \"  font-size: 14px;\",\n",
       "    \"}\",\n",
       "  ].join(\"\\\\n\");\n",
       "\n",
       "  // element is a jQuery wrapped DOM element inside the output area\n",
       "  // see http://ipython.readthedocs.io/en/stable/api/generated/\\\n",
       "  // IPython.display.html#IPython.display.Javascript.__init__\n",
       "  element[0].appendChild(target);\n",
       "  element[0].appendChild(style);\n",
       "  vega.render(`#${id}`, spec, type, opt, output_area);\n",
       "}, function (err) {\n",
       "  if (err.requireType !== \"scripterror\") {\n",
       "    throw(err);\n",
       "  }\n",
       "});\n"
      ],
      "text/plain": [
       "<vega.vegalite.VegaLite at 0x7f01119d1730>"
      ]
     },
     "execution_count": 17,
     "metadata": {
      "jupyter-vega": "#c09bb46b-236f-4039-81ad-a4834446e9a7"
     },
     "output_type": "execute_result"
    },
    {
     "data": {
      "image/png": "[encoded data removed]"
     },
     "metadata": {
      "jupyter-vega": "#c09bb46b-236f-4039-81ad-a4834446e9a7"
     },
     "output_type": "display_data"
    }
   ],
   "source": [
    "pieSpec = {\n",
    "    'title':'Crime per Year',\n",
    "  \"data\": {\n",
    "    'url': 'viz1.json'\n",
    "  },\n",
    "  \"mark\": \"arc\",\n",
    "  \"encoding\": {\n",
    "    \"theta\": {\"field\": \"count\", \"type\": \"quantitative\"},\n",
    "    \"color\": {\"field\": \"Year\", \"type\": \"ordinal\"},\n",
    "      \"tooltip\": [\n",
    "          {\"field\":\"Year\",'type':'ordinal'},\n",
    "          {'field':\"count\",'type':'quantitative'}\n",
    "      ]\n",
    "  }\n",
    "}\n",
    "\n",
    "vte(pieSpec)"
   ]
  },
  {
   "cell_type": "code",
   "execution_count": 18,
   "id": "caeffce7",
   "metadata": {
    "scrolled": true
   },
   "outputs": [],
   "source": [
    "total_arrests_T = cdfc.copy()[['Arrest', 'count', 'Primary Type']] # This is a total arrests made dataframe\n",
    "# total_arrests_T = \n",
    "ta = total_arrests_T[total_arrests_T['Arrest']].groupby(['Primary Type']).count().drop(['Arrest'], axis=1).reset_index()\n",
    "ta['count'] = ta['count'].apply(lambda x: x/10000)\n",
    "ta = ta.sort_values(by='count', ascending=False)[:20]"
   ]
  },
  {
   "cell_type": "code",
   "execution_count": 19,
   "id": "a723e62a",
   "metadata": {},
   "outputs": [],
   "source": [
    "with open('viz2.json', 'w', encoding='utf-8') as v1:\n",
    "    v1.write(ta.to_json(orient='records'))"
   ]
  },
  {
   "cell_type": "code",
   "execution_count": 20,
   "id": "519f56c0",
   "metadata": {},
   "outputs": [
    {
     "data": {
      "application/javascript": [
       "const spec = {\"title\": \"Total Arrests per Crime Type\", \"data\": {\"url\": \"viz2.json\"}, \"height\": {\"step\": 17}, \"mark\": \"bar\", \"encoding\": {\"y\": {\"field\": \"Primary Type\", \"type\": \"ordinal\", \"sort\": \"-x\", \"title\": \"Crime Type\"}, \"x\": {\"aggregate\": \"sum\", \"field\": \"count\", \"title\": \"Crime per 10,000\"}, \"tooltip\": [{\"field\": \"count\", \"type\": \"quantitative\"}]}};\n",
       "const opt = {};\n",
       "const type = \"vega-lite\";\n",
       "const id = \"410b26fc-e13b-485f-a580-b038bff8afa1\";\n",
       "\n",
       "const output_area = this;\n",
       "\n",
       "require([\"jupyter-vega\"], function(vega) {\n",
       "  const target = document.createElement(\"div\");\n",
       "  target.id = id;\n",
       "  target.className = \"vega-embed\";\n",
       "\n",
       "  const style = document.createElement(\"style\");\n",
       "  style.textContent = [\n",
       "    \".vega-embed .error p {\",\n",
       "    \"  color: firebrick;\",\n",
       "    \"  font-size: 14px;\",\n",
       "    \"}\",\n",
       "  ].join(\"\\\\n\");\n",
       "\n",
       "  // element is a jQuery wrapped DOM element inside the output area\n",
       "  // see http://ipython.readthedocs.io/en/stable/api/generated/\\\n",
       "  // IPython.display.html#IPython.display.Javascript.__init__\n",
       "  element[0].appendChild(target);\n",
       "  element[0].appendChild(style);\n",
       "  vega.render(`#${id}`, spec, type, opt, output_area);\n",
       "}, function (err) {\n",
       "  if (err.requireType !== \"scripterror\") {\n",
       "    throw(err);\n",
       "  }\n",
       "});\n"
      ],
      "text/plain": [
       "<vega.vegalite.VegaLite at 0x7f01119f60d0>"
      ]
     },
     "execution_count": 20,
     "metadata": {
      "jupyter-vega": "#410b26fc-e13b-485f-a580-b038bff8afa1"
     },
     "output_type": "execute_result"
    },
    {
     "data": {
      "image/png": "[encoded data removed]"
     },
     "metadata": {
      "jupyter-vega": "#410b26fc-e13b-485f-a580-b038bff8afa1"
     },
     "output_type": "display_data"
    }
   ],
   "source": [
    "sortBarSpec = {\n",
    "    'title':\"Total Arrests per Crime Type\",\n",
    "  \"data\": {'url': 'viz2.json'},\n",
    "  \"height\": {\"step\": 17},\n",
    "  \"mark\": \"bar\",\n",
    "  \"encoding\": {\n",
    "    \"y\": {\n",
    "      \"field\": \"Primary Type\",\n",
    "      \"type\": \"ordinal\",\n",
    "      \"sort\": \"-x\",\n",
    "        'title': \"Crime Type\"\n",
    "    },\n",
    "    \"x\": {\n",
    "      \"aggregate\": \"sum\",\n",
    "      \"field\": \"count\",\n",
    "      \"title\": \"Crime per 10,000\"\n",
    "    },\n",
    "      'tooltip':[\n",
    "      {\"field\": \"count\", \"type\": \"quantitative\"},\n",
    "    ]\n",
    "  },\n",
    "    \n",
    "}\n",
    "\n",
    "vte(sortBarSpec)"
   ]
  },
  {
   "cell_type": "code",
   "execution_count": 22,
   "id": "8d1171cb",
   "metadata": {},
   "outputs": [],
   "source": [
    "with open('viz3.json', 'w', encoding='utf-8') as v1:\n",
    "    v1.write(tc_w.to_json(orient='records'))"
   ]
  },
  {
   "cell_type": "code",
   "execution_count": 23,
   "id": "0e1042bc",
   "metadata": {},
   "outputs": [
    {
     "data": {
      "application/javascript": [
       "const spec = {\"title\": \"Crimes in Each Ward\", \"data\": {\"url\": \"viz3.json\"}, \"mark\": \"circle\", \"encoding\": {\"x\": {\"field\": \"crimes_in_Thsnd\", \"type\": \"quantitative\"}, \"y\": {\"field\": \"Ward\", \"type\": \"quantitative\"}, \"tooltip\": [{\"field\": \"crimes_in_Thsnd\", \"type\": \"quantitative\"}, {\"field\": \"Ward\", \"type\": \"quantitative\"}]}};\n",
       "const opt = {};\n",
       "const type = \"vega-lite\";\n",
       "const id = \"05d4ae7f-f325-4794-9ac7-a8e5ce4cb92b\";\n",
       "\n",
       "const output_area = this;\n",
       "\n",
       "require([\"jupyter-vega\"], function(vega) {\n",
       "  const target = document.createElement(\"div\");\n",
       "  target.id = id;\n",
       "  target.className = \"vega-embed\";\n",
       "\n",
       "  const style = document.createElement(\"style\");\n",
       "  style.textContent = [\n",
       "    \".vega-embed .error p {\",\n",
       "    \"  color: firebrick;\",\n",
       "    \"  font-size: 14px;\",\n",
       "    \"}\",\n",
       "  ].join(\"\\\\n\");\n",
       "\n",
       "  // element is a jQuery wrapped DOM element inside the output area\n",
       "  // see http://ipython.readthedocs.io/en/stable/api/generated/\\\n",
       "  // IPython.display.html#IPython.display.Javascript.__init__\n",
       "  element[0].appendChild(target);\n",
       "  element[0].appendChild(style);\n",
       "  vega.render(`#${id}`, spec, type, opt, output_area);\n",
       "}, function (err) {\n",
       "  if (err.requireType !== \"scripterror\") {\n",
       "    throw(err);\n",
       "  }\n",
       "});\n"
      ],
      "text/plain": [
       "<vega.vegalite.VegaLite at 0x7f01119d1d30>"
      ]
     },
     "execution_count": 23,
     "metadata": {
      "jupyter-vega": "#05d4ae7f-f325-4794-9ac7-a8e5ce4cb92b"
     },
     "output_type": "execute_result"
    },
    {
     "data": {
      "image/png": "[encoded data removed]"
     },
     "metadata": {
      "jupyter-vega": "#05d4ae7f-f325-4794-9ac7-a8e5ce4cb92b"
     },
     "output_type": "display_data"
    }
   ],
   "source": [
    "sphereSpec = {\n",
    "    \"title\":\"Crimes in Each Ward\",\n",
    "  \"data\": {\n",
    "    'url':'viz3.json'\n",
    "  },\n",
    "   \"mark\": \"circle\",\n",
    "  \"encoding\": {\n",
    "    \"x\": {\"field\": \"crimes_in_Thsnd\", \"type\": \"quantitative\"},\n",
    "    \"y\": {\"field\": \"Ward\", \"type\": \"quantitative\"},\n",
    "      \"tooltip\": [\n",
    "      {\"field\": \"crimes_in_Thsnd\", \"type\": \"quantitative\"},\n",
    "      {\"field\": \"Ward\", \"type\": \"quantitative\"}\n",
    "    ]\n",
    "  }\n",
    "}\n",
    "\n",
    "vte(sphereSpec)"
   ]
  },
  {
   "cell_type": "code",
   "execution_count": 5,
   "id": "9188535a",
   "metadata": {},
   "outputs": [],
   "source": [
    "df_month = cdfc.copy() # making a new dataframe\n",
    "df_month['Date'] = df_month[\"Date\"].map(lambda x: datetime.strptime(x, \"%m/%d/%Y %I:%M:%S %p\")) # here to get datatime obj"
   ]
  },
  {
   "cell_type": "code",
   "execution_count": 6,
   "id": "a28752f4",
   "metadata": {},
   "outputs": [],
   "source": [
    "# This is here to make the new dataframe \n",
    "spDate = df_month[(df_month[\"Year\"]==2022) & (df_month[\"Ward\"].notnull())].copy()\n",
    "spDate['month'] = spDate[\"Date\"].map(lambda x: datetime.strftime(x, '%b'))\n",
    "spDate = spDate[['count', 'month']].groupby('month').count().reset_index()\n",
    "\n",
    "# This is here to sort the months in calander order\n",
    "months = [\"Jan\", \"Feb\", \"Mar\", \"Apr\", \"May\", \"Jun\", \n",
    "          \"Jul\", \"Aug\", \"Sep\", \"Oct\", \"Nov\", \"Dec\"]\n",
    "spDate['month'] = pd.Categorical(spDate['month'], categories=months, ordered=True)\n",
    "spDate = spDate.sort_values(by=[\"month\"])\n"
   ]
  },
  {
   "cell_type": "code",
   "execution_count": 26,
   "id": "0b5e29d8",
   "metadata": {},
   "outputs": [],
   "source": [
    "with open('viz4.json', 'w', encoding='utf-8') as v1:\n",
    "    v1.write(spDate.to_json(orient='records'))"
   ]
  },
  {
   "cell_type": "code",
   "execution_count": 27,
   "id": "e4617399",
   "metadata": {},
   "outputs": [
    {
     "data": {
      "application/javascript": [
       "const spec = {\"$schema\": \"https://vega.github.io/schema/vega-lite/v3.json\", \"title\": \"Crime per month in 2022\", \"description\": \"A barchart with month and count data.\", \"data\": {\"url\": \"viz4.json\"}, \"mark\": \"bar\", \"encoding\": {\"x\": {\"field\": \"month\", \"type\": \"ordinal\"}, \"y\": {\"field\": \"count\", \"type\": \"quantitative\"}, \"tooltip\": [{\"field\": \"count\", \"type\": \"quantitative\"}]}};\n",
       "const opt = {};\n",
       "const type = \"vega-lite\";\n",
       "const id = \"cab858f3-94f6-4cae-b449-c397486a573e\";\n",
       "\n",
       "const output_area = this;\n",
       "\n",
       "require([\"jupyter-vega\"], function(vega) {\n",
       "  const target = document.createElement(\"div\");\n",
       "  target.id = id;\n",
       "  target.className = \"vega-embed\";\n",
       "\n",
       "  const style = document.createElement(\"style\");\n",
       "  style.textContent = [\n",
       "    \".vega-embed .error p {\",\n",
       "    \"  color: firebrick;\",\n",
       "    \"  font-size: 14px;\",\n",
       "    \"}\",\n",
       "  ].join(\"\\\\n\");\n",
       "\n",
       "  // element is a jQuery wrapped DOM element inside the output area\n",
       "  // see http://ipython.readthedocs.io/en/stable/api/generated/\\\n",
       "  // IPython.display.html#IPython.display.Javascript.__init__\n",
       "  element[0].appendChild(target);\n",
       "  element[0].appendChild(style);\n",
       "  vega.render(`#${id}`, spec, type, opt, output_area);\n",
       "}, function (err) {\n",
       "  if (err.requireType !== \"scripterror\") {\n",
       "    throw(err);\n",
       "  }\n",
       "});\n"
      ],
      "text/plain": [
       "<vega.vegalite.VegaLite at 0x7f0111bd9c10>"
      ]
     },
     "execution_count": 27,
     "metadata": {
      "jupyter-vega": "#cab858f3-94f6-4cae-b449-c397486a573e"
     },
     "output_type": "execute_result"
    },
    {
     "data": {
      "image/png": "[encoded data removed]"
     },
     "metadata": {
      "jupyter-vega": "#cab858f3-94f6-4cae-b449-c397486a573e"
     },
     "output_type": "display_data"
    }
   ],
   "source": [
    "barSpec = {\n",
    "    \"$schema\": \"https://vega.github.io/schema/vega-lite/v3.json\",\n",
    "    \"title\": \"Crime per month in 2022\",\n",
    "    \"description\": \"A barchart with month and count data.\",\n",
    "    \"data\": {\"url\":\"viz4.json\"},\n",
    "    \"mark\": \"bar\",\n",
    "    \"encoding\": {\n",
    "        \"x\": {\"field\": \"month\", \"type\": \"ordinal\"},\n",
    "        \"y\": {\"field\": \"count\", \"type\": \"quantitative\"},\n",
    "        'tooltip': [\n",
    "            {'field':'count','type':'quantitative'}\n",
    "        ]\n",
    "    }\n",
    "}\n",
    "vte(barSpec)"
   ]
  },
  {
   "cell_type": "code",
   "execution_count": 7,
   "id": "560c9aa7",
   "metadata": {},
   "outputs": [],
   "source": [
    "df_heat = df_month[df_month[\"Ward\"].notnull()].copy() # Makes a new dataframe \n",
    "\n",
    "# just gets a month from datetime obj to use \n",
    "df_heat[\"month\"] = df_heat['Date'].map(lambda x: datetime.strftime(x, '%b'))\n",
    "df_heat = df_heat[['count', 'month', 'Primary Type']].groupby(['month', 'Primary Type']).count().reset_index()"
   ]
  },
  {
   "cell_type": "code",
   "execution_count": 29,
   "id": "5f1dae92",
   "metadata": {},
   "outputs": [],
   "source": [
    "with open('viz5.json', 'w', encoding='utf-8') as v1:\n",
    "    v1.write(df_heat.to_json(orient='records'))"
   ]
  },
  {
   "cell_type": "code",
   "execution_count": 15,
   "id": "6fe500ea",
   "metadata": {},
   "outputs": [
    {
     "data": {
      "application/javascript": [
       "const spec = {\"$schema\": \"https://vega.github.io/schema/vega-lite/v5.json\", \"width\": 800, \"height\": 200, \"title\": \"Heatmap of Number and Types of Crimes Per Month in 2022\", \"description\": \"A heatmap showing crimes per month in 2022 based on type of crime.\", \"data\": {\"url\": \"viz5.json\"}, \"mark\": \"rect\", \"encoding\": {\"y\": {\"field\": \"month\", \"type\": \"nominal\"}, \"x\": {\"field\": \"Primary Type\", \"type\": \"ordinal\"}, \"color\": {\"aggregate\": \"mean\", \"field\": \"count\"}, \"tooltip\": [{\"field\": \"month\", \"type\": \"nominal\"}, {\"field\": \"Primary Type\", \"type\": \"ordinal\"}, {\"field\": \"count\", \"type\": \"quantitative\"}]}};\n",
       "const opt = {};\n",
       "const type = \"vega-lite\";\n",
       "const id = \"69930608-bccb-411a-bc7e-82bc814a9568\";\n",
       "\n",
       "const output_area = this;\n",
       "\n",
       "require([\"jupyter-vega\"], function(vega) {\n",
       "  const target = document.createElement(\"div\");\n",
       "  target.id = id;\n",
       "  target.className = \"vega-embed\";\n",
       "\n",
       "  const style = document.createElement(\"style\");\n",
       "  style.textContent = [\n",
       "    \".vega-embed .error p {\",\n",
       "    \"  color: firebrick;\",\n",
       "    \"  font-size: 14px;\",\n",
       "    \"}\",\n",
       "  ].join(\"\\\\n\");\n",
       "\n",
       "  // element is a jQuery wrapped DOM element inside the output area\n",
       "  // see http://ipython.readthedocs.io/en/stable/api/generated/\\\n",
       "  // IPython.display.html#IPython.display.Javascript.__init__\n",
       "  element[0].appendChild(target);\n",
       "  element[0].appendChild(style);\n",
       "  vega.render(`#${id}`, spec, type, opt, output_area);\n",
       "}, function (err) {\n",
       "  if (err.requireType !== \"scripterror\") {\n",
       "    throw(err);\n",
       "  }\n",
       "});\n"
      ],
      "text/plain": [
       "<vega.vegalite.VegaLite at 0x7f04503998e0>"
      ]
     },
     "execution_count": 15,
     "metadata": {
      "jupyter-vega": "#69930608-bccb-411a-bc7e-82bc814a9568"
     },
     "output_type": "execute_result"
    },
    {
     "data": {
      "image/png": "[encoded data removed]"
     },
     "metadata": {
      "jupyter-vega": "#69930608-bccb-411a-bc7e-82bc814a9568"
     },
     "output_type": "display_data"
    }
   ],
   "source": [
    "heatSpec = {\n",
    "  \"$schema\": \"https://vega.github.io/schema/vega-lite/v5.json\",\n",
    "  \"width\": 800,\n",
    "  \"height\": 200,\n",
    "  \"title\": \"Heatmap of Number and Types of Crimes Per Month in 2022\",\n",
    "  \"description\": \"A heatmap showing crimes per month in 2022 based on type of crime.\",\n",
    "  \"data\": {'url': 'viz5.json'},\n",
    "  \"mark\": \"rect\",\n",
    "  \"encoding\": {\n",
    "    \"y\": {\"field\": \"month\", \"type\": \"nominal\"},\n",
    "    \"x\": {\"field\": \"Primary Type\", \"type\": \"ordinal\"},\n",
    "    \"color\": {\"aggregate\": \"mean\",\"field\": \"count\"},\n",
    "      'tooltip': [\n",
    "          {'field':'month', 'type':'nominal'},\n",
    "          {'field':'Primary Type', \"type\":'ordinal'},\n",
    "          {'field':'count','type':\"quantitative\"}\n",
    "      ]\n",
    "  },\n",
    "#   \"config\": {\n",
    "#     \"axis\": {\"grid\": True, \"tickBand\": \"extent\"}\n",
    "#   }\n",
    "}\n",
    "\n",
    "vte(heatSpec)"
   ]
  },
  {
   "cell_type": "code",
   "execution_count": 31,
   "id": "3dde46be",
   "metadata": {},
   "outputs": [],
   "source": [
    "line_df = cdfc.copy()[['Year', 'count', 'Primary Type']]"
   ]
  },
  {
   "cell_type": "code",
   "execution_count": 32,
   "id": "f18cf8c2",
   "metadata": {},
   "outputs": [],
   "source": [
    "# These are just filtering functions to be used later\n",
    "thft = line_df[\"Primary Type\"]==\"THEFT\"\n",
    "bat = line_df[\"Primary Type\"]==\"BATTERY\"\n",
    "ast = line_df[\"Primary Type\"]==\"ASSAULT\"\n",
    "crd = line_df[\"Primary Type\"]==\"CRIMINAL DAMAGE\"\n",
    "\n",
    "# Filters out the df and pivots the table to be used in the fig\n",
    "line_dfcp = line_df[thft | bat | ast | crd ].copy()\n",
    "line_dfcp = line_dfcp.groupby([\"Primary Type\", \"Year\"]).count().reset_index()\n",
    "\n",
    "# line_dfcp = line_dfcp.pivot(index=\"Year\", columns=['Primary Type'], values=\"count\")"
   ]
  },
  {
   "cell_type": "code",
   "execution_count": 35,
   "id": "147638eb",
   "metadata": {},
   "outputs": [],
   "source": [
    "with open('viz6.json', 'w', encoding='utf-8') as v1:\n",
    "    v1.write(line_dfcp.to_json(orient='records'))"
   ]
  },
  {
   "cell_type": "code",
   "execution_count": 24,
   "id": "e31168d7",
   "metadata": {
    "scrolled": true
   },
   "outputs": [
    {
     "data": {
      "application/javascript": [
       "const spec = {\"$schema\": \"https://vega.github.io/schema/vega-lite/v5.json\", \"width\": 800, \"height\": 200, \"title\": \"Change of Specific Crimes Over the Years\", \"description\": \"A line graph showing the change of crimes as time goes.\", \"data\": {\"url\": \"viz6.json\"}, \"mark\": \"line\", \"encoding\": {\"y\": {\"field\": \"count\", \"type\": \"quantitative\"}, \"x\": {\"field\": \"Year\", \"type\": \"nominal\"}, \"color\": {\"field\": \"Primary Type\", \"type\": \"nominal\"}, \"tooltip\": [{\"field\": \"Year\", \"type\": \"nominal\"}, {\"field\": \"Primary Type\", \"type\": \"ordinal\"}, {\"field\": \"count\", \"type\": \"quantitative\"}]}, \"config\": {\"axis\": {\"grid\": true}}};\n",
       "const opt = {};\n",
       "const type = \"vega-lite\";\n",
       "const id = \"8d8f8ac9-35fc-404e-8539-b344636d856e\";\n",
       "\n",
       "const output_area = this;\n",
       "\n",
       "require([\"jupyter-vega\"], function(vega) {\n",
       "  const target = document.createElement(\"div\");\n",
       "  target.id = id;\n",
       "  target.className = \"vega-embed\";\n",
       "\n",
       "  const style = document.createElement(\"style\");\n",
       "  style.textContent = [\n",
       "    \".vega-embed .error p {\",\n",
       "    \"  color: firebrick;\",\n",
       "    \"  font-size: 14px;\",\n",
       "    \"}\",\n",
       "  ].join(\"\\\\n\");\n",
       "\n",
       "  // element is a jQuery wrapped DOM element inside the output area\n",
       "  // see http://ipython.readthedocs.io/en/stable/api/generated/\\\n",
       "  // IPython.display.html#IPython.display.Javascript.__init__\n",
       "  element[0].appendChild(target);\n",
       "  element[0].appendChild(style);\n",
       "  vega.render(`#${id}`, spec, type, opt, output_area);\n",
       "}, function (err) {\n",
       "  if (err.requireType !== \"scripterror\") {\n",
       "    throw(err);\n",
       "  }\n",
       "});\n"
      ],
      "text/plain": [
       "<vega.vegalite.VegaLite at 0x7f02bfd24d90>"
      ]
     },
     "execution_count": 24,
     "metadata": {
      "jupyter-vega": "#8d8f8ac9-35fc-404e-8539-b344636d856e"
     },
     "output_type": "execute_result"
    },
    {
     "data": {
      "image/png": "[encoded data removed]"
     },
     "metadata": {
      "jupyter-vega": "#8d8f8ac9-35fc-404e-8539-b344636d856e"
     },
     "output_type": "display_data"
    }
   ],
   "source": [
    "lineSpec = {\n",
    "    \"$schema\": \"https://vega.github.io/schema/vega-lite/v5.json\",\n",
    "    \"width\": 800,\n",
    "    \"height\": 200,\n",
    "    \"title\": \"Change of Specific Crimes Over the Years\",\n",
    "    \"description\": \"A line graph showing the change of crimes as time goes.\",\n",
    "    \"data\": {'url': 'viz6.json'},\n",
    "    \"mark\": \"line\",\n",
    "    \"encoding\": {\n",
    "        \"y\": {\"field\": \"count\", \"type\": \"quantitative\"},\n",
    "        \"x\": {\"field\": \"Year\", \"type\": \"nominal\"},\n",
    "        \"color\": {\"field\": \"Primary Type\", \"type\": \"nominal\"},\n",
    "        'tooltip': [\n",
    "          {'field':'Year', 'type':'nominal'},\n",
    "          {'field':'Primary Type', \"type\":'ordinal'},\n",
    "          {'field':'count','type':\"quantitative\"}\n",
    "      ]\n",
    "    },\n",
    "    \"config\": {\n",
    "        \"axis\": {\"grid\": True}\n",
    "    }\n",
    "}\n",
    "\n",
    "vte(lineSpec)"
   ]
  }
 ],
 "metadata": {
  "kernelspec": {
   "display_name": "Python 3 (ipykernel)",
   "language": "python",
   "name": "python3"
  },
  "language_info": {
   "codemirror_mode": {
    "name": "ipython",
    "version": 3
   },
   "file_extension": ".py",
   "mimetype": "text/x-python",
   "name": "python",
   "nbconvert_exporter": "python",
   "pygments_lexer": "ipython3",
   "version": "3.8.18"
  }
 },
 "nbformat": 4,
 "nbformat_minor": 5
}
